{
 "cells": [
  {
   "cell_type": "markdown",
   "metadata": {
    "colab_type": "text",
    "id": "4P3WM-hVOPfo"
   },
   "source": [
    "# Reinforcement Learning in Finite MDPs"
   ]
  },
  {
   "cell_type": "code",
   "execution_count": 1,
   "metadata": {
    "colab": {},
    "colab_type": "code",
    "id": "E9_DLZvWQzhb"
   },
   "outputs": [
    {
     "name": "stderr",
     "output_type": "stream",
     "text": [
      "The system cannot find the path specified.\n"
     ]
    }
   ],
   "source": [
    "!git clone https://github.com/rlgammazero/mvarl_hands_on.git > /dev/null 2>&1"
   ]
  },
  {
   "cell_type": "markdown",
   "metadata": {
    "colab_type": "text",
    "id": "wnzUJeyJOPfq"
   },
   "source": [
    "## MDPs"
   ]
  },
  {
   "cell_type": "code",
   "execution_count": 0,
   "metadata": {
    "colab": {},
    "colab_type": "code",
    "id": "RcWJSw_uOPfr"
   },
   "outputs": [],
   "source": [
    "import sys\n",
    "sys.path.insert(0, './mvarl_hands_on/utils')\n",
    "import numpy as np\n",
    "from scipy.special import softmax # for SARSA\n",
    "import matplotlib.pyplot as plt\n",
    "import json\n",
    "import math\n",
    "from cliffwalk import CliffWalk \n",
    "from test_env import ToyEnv1"
   ]
  },
  {
   "cell_type": "markdown",
   "metadata": {
    "colab_type": "text",
    "id": "ym-B_4HaOPfu"
   },
   "source": [
    "Setting up the environment"
   ]
  },
  {
   "cell_type": "code",
   "execution_count": 0,
   "metadata": {
    "colab": {
     "base_uri": "https://localhost:8080/",
     "height": 318
    },
    "colab_type": "code",
    "id": "rVR5qYoLOPfv",
    "outputId": "006bd414-6113-403f-d2bc-9e30fd033de1"
   },
   "outputs": [
    {
     "name": "stdout",
     "output_type": "stream",
     "text": [
      "Set of states: range(0, 48)\n",
      "Set of actions: [0, 1, 2, 3]\n",
      "Number of states:  48\n",
      "Number of actions:  4\n",
      "P has shape:  (48, 4, 48)\n",
      "discount factor:  0.99\n",
      "\n",
      "initial state:  36\n",
      "reward at (s=1, a=3,s'=2):  0.6\n",
      "\n",
      "random policy =  [3 3 3 1 3 0 3 3 0 3 1 1 1 1 3 0 1 3 0 3 3 2 0 3 0 2 0 2 3 2 1 0 2 1 3 3 0\n",
      " 2 3 0 3 3 1 0 0 0 0 3]\n",
      "(s, a, s', r):\n",
      "36 0 37 0.6\n",
      "37 2 36 0.0\n",
      "36 0 37 0.6\n",
      "37 2 36 0.0\n",
      "\n"
     ]
    }
   ],
   "source": [
    "env = CliffWalk(proba_succ=0.98)\n",
    "\n",
    "####################################################################################\n",
    "# You probably want to test smaller enviroments before\n",
    "#env = ToyEnv1(gamma=0.95)\n",
    "####################################################################################\n",
    "\n",
    "# Useful attributes\n",
    "print(\"Set of states:\", env.states)\n",
    "print(\"Set of actions:\", env.actions)\n",
    "print(\"Number of states: \", env.Ns)\n",
    "print(\"Number of actions: \", env.Na)\n",
    "print(\"P has shape: \", env.P.shape)  # P[s, a, s'] = env.P[s, a, s']\n",
    "print(\"discount factor: \", env.gamma)\n",
    "print(\"\")\n",
    "\n",
    "# Usefult methods\n",
    "state = env.reset() # get initial state\n",
    "print(\"initial state: \", state)\n",
    "print(\"reward at (s=1, a=3,s'=2): \", env.reward_func(1,0,2))\n",
    "print(\"\")\n",
    "\n",
    "# A random policy\n",
    "policy = np.random.randint(env.Na, size = (env.Ns,))\n",
    "print(\"random policy = \", policy)\n",
    "\n",
    "# Interacting with the environment\n",
    "print(\"(s, a, s', r):\")\n",
    "for time in range(4):\n",
    "    action = policy[state]\n",
    "    next_state, reward, done, info = env.step(action)\n",
    "    print(state, action, next_state, reward)\n",
    "    if done:\n",
    "        break\n",
    "    state = next_state\n",
    "print(\"\")"
   ]
  },
  {
   "cell_type": "markdown",
   "metadata": {
    "colab_type": "text",
    "id": "AUlNvT3cOPfx"
   },
   "source": [
    "## Value iteration\n",
    "1. optimal Bellman operator on a provided Q function: $Q_1 = LQ_0, \\; Q_0\\in \\mathbb{R}^{S\\times A}$\n",
    "2. Value Iteration (VI) with $\\infty$-norm stopping condition \n",
    "3. Evaluating the convergence of the estimate, i.e., plot the value $\\|V_n - V^\\star\\|_{\\infty}$"
   ]
  },
  {
   "cell_type": "code",
   "execution_count": 0,
   "metadata": {
    "colab": {},
    "colab_type": "code",
    "id": "R8TLRx6MOPfy"
   },
   "outputs": [],
   "source": [
    "# --------------\n",
    "# Point 1\n",
    "# --------------\n",
    "def bellman_operator(Q0, env):\n",
    "    # TODO\n",
    "    V=np.max(Q0,axis=1)\n",
    "    Q1=np.zeros((env.Ns,env.Na))\n",
    "    for s in range(env.Ns):\n",
    "      for a in range(env.Na):\n",
    "        for s_prime in range(env.Ns):\n",
    "          Q1[s,a]+= env.P[s,a,s_prime]*(env.reward_func(s,a,s_prime)+env.gamma*V[s])\n",
    "    greedy_policy=np.argmax(Q1,axis=1)\n",
    "    #Q1=np.diag(Q1.T[np.argmax(Q1,axis=1)])               \n",
    "    return Q1, greedy_policy"
   ]
  },
  {
   "cell_type": "code",
   "execution_count": 0,
   "metadata": {
    "colab": {},
    "colab_type": "code",
    "id": "jj65cQk5OPf0"
   },
   "outputs": [],
   "source": [
    "# --------------\n",
    "# Point 2\n",
    "# --------------\n",
    "def value_iteration(Q0, env, epsilon=1e-5,maxiter=10000):\n",
    "  Q_history=[Q0]\n",
    "  Q=Q0\n",
    "  delta=5\n",
    "  counter=0\n",
    "  while (delta>epsilon) and counter<maxiter:\n",
    "    counter+=1\n",
    "    Q, greedy_policy=bellman_operator(Q,env)\n",
    "    delta=np.max(np.abs(Q-Q_history[-1]))\n",
    "    Q_history+=[Q]\n",
    "  if counter>= maxiter : \n",
    "    print('algo didn\"t converge')\n",
    "  return Q, greedy_policy, Q_history"
   ]
  },
  {
   "cell_type": "code",
   "execution_count": 0,
   "metadata": {
    "colab": {
     "base_uri": "https://localhost:8080/",
     "height": 312
    },
    "colab_type": "code",
    "id": "W_lBe6q6OPf2",
    "outputId": "fd8b04d5-1ccd-41e7-9bfe-7e3799bc364f"
   },
   "outputs": [
    {
     "data": {
      "text/plain": [
       "Text(0.5, 1.0, 'Q-learning: Convergence of Q')"
      ]
     },
     "execution_count": 20,
     "metadata": {
      "tags": []
     },
     "output_type": "execute_result"
    },
    {
     "data": {
      "image/png": "[encoded data removed]",
      "text/plain": [
       "<Figure size 432x288 with 1 Axes>"
      ]
     },
     "metadata": {
      "tags": []
     },
     "output_type": "display_data"
    }
   ],
   "source": [
    "# --------------\n",
    "# Point 3\n",
    "# --------------\n",
    "with open(\"./mvarl_hands_on/data/Q_opts.json\", \"r\") as fp:\n",
    "    Qopts = json.load(fp)\n",
    "Qstar = Qopts[\"{}_{}\".format(type(env).__name__,env.gamma)]\n",
    "Q0=np.zeros((env.Ns,env.Na))\n",
    "Q, greedy_policy, Q_history = value_iteration(Q0,env,maxiter=10000)\n",
    "norm_values=[np.max(np.abs(Qn-Q)) for Qn in Q_history]\n",
    "\n",
    "plt.plot(norm_values)\n",
    "plt.xlabel('Iteration')\n",
    "plt.ylabel('Error')\n",
    "plt.title(\"Q-learning: Convergence of Q\")"
   ]
  },
  {
   "cell_type": "code",
   "execution_count": 0,
   "metadata": {
    "colab": {
     "base_uri": "https://localhost:8080/",
     "height": 1000
    },
    "colab_type": "code",
    "id": "FbzFs3tDvcJy",
    "outputId": "e87b42f2-2a12-425b-eb47-08c11f9ef0e9"
   },
   "outputs": [
    {
     "name": "stdout",
     "output_type": "stream",
     "text": [
      "+-----------------------+\n",
      "| : : : : : : : : : : : |\n",
      "| : : : : : : : : : : : |\n",
      "| : : : : : : : : : : : |\n",
      "|\u001b[43mS\u001b[0m:x:x:x:x:x:x:x:x:x:x:G|\n",
      "+-----------------------+\n",
      "\n",
      "+-----------------------+\n",
      "| : : : : : : : : : : : |\n",
      "| : : : : : : : : : : : |\n",
      "| : : : : : : : : : : : |\n",
      "|S:\u001b[41mx\u001b[0m:x:x:x:x:x:x:x:x:x:G|\n",
      "+-----------------------+\n",
      "  (right)\n",
      "+-----------------------+\n",
      "| : : : : : : : : : : : |\n",
      "| : : : : : : : : : : : |\n",
      "| : : : : : : : : : : : |\n",
      "|S:x:\u001b[41mx\u001b[0m:x:x:x:x:x:x:x:x:G|\n",
      "+-----------------------+\n",
      "  (right)\n",
      "+-----------------------+\n",
      "| : : : : : : : : : : : |\n",
      "| : : : : : : : : : : : |\n",
      "| : : : : : : : : : : : |\n",
      "|S:x:x:\u001b[41mx\u001b[0m:x:x:x:x:x:x:x:G|\n",
      "+-----------------------+\n",
      "  (right)\n",
      "+-----------------------+\n",
      "| : : : : : : : : : : : |\n",
      "| : : : : : : : : : : : |\n",
      "| : : : : : : : : : : : |\n",
      "|S:x:x:x:\u001b[41mx\u001b[0m:x:x:x:x:x:x:G|\n",
      "+-----------------------+\n",
      "  (right)\n",
      "+-----------------------+\n",
      "| : : : : : : : : : : : |\n",
      "| : : : : : : : : : : : |\n",
      "| : : : : : : : : : : : |\n",
      "|S:x:x:x:x:\u001b[41mx\u001b[0m:x:x:x:x:x:G|\n",
      "+-----------------------+\n",
      "  (right)\n",
      "+-----------------------+\n",
      "| : : : : : : : : : : : |\n",
      "| : : : : : : : : : : : |\n",
      "| : : : : : : : : : : : |\n",
      "|S:x:x:x:x:x:\u001b[41mx\u001b[0m:x:x:x:x:G|\n",
      "+-----------------------+\n",
      "  (right)\n",
      "+-----------------------+\n",
      "| : : : : : : : : : : : |\n",
      "| : : : : : : : : : : : |\n",
      "| : : : : : : : : : : : |\n",
      "|S:x:x:x:x:x:x:\u001b[41mx\u001b[0m:x:x:x:G|\n",
      "+-----------------------+\n",
      "  (right)\n",
      "+-----------------------+\n",
      "| : : : : : : : : : : : |\n",
      "| : : : : : : : : : : : |\n",
      "| : : : : : : : : : : : |\n",
      "|S:x:x:x:x:x:x:x:\u001b[41mx\u001b[0m:x:x:G|\n",
      "+-----------------------+\n",
      "  (right)\n",
      "+-----------------------+\n",
      "| : : : : : : : : : : : |\n",
      "| : : : : : : : : : : : |\n",
      "| : : : : : : : : : : : |\n",
      "|S:x:x:x:x:x:x:x:x:\u001b[41mx\u001b[0m:x:G|\n",
      "+-----------------------+\n",
      "  (right)\n",
      "+-----------------------+\n",
      "| : : : : : : : : : : : |\n",
      "| : : : : : : : : : : : |\n",
      "| : : : : : : : : : : : |\n",
      "|S:x:x:x:x:x:x:x:x:x:\u001b[41mx\u001b[0m:G|\n",
      "+-----------------------+\n",
      "  (right)\n",
      "+-----------------------+\n",
      "| : : : : : : : : : : : |\n",
      "| : : : : : : : : : : : |\n",
      "| : : : : : : : : : : : |\n",
      "|S:x:x:x:x:x:x:x:x:x:x:\u001b[42mG\u001b[0m|\n",
      "+-----------------------+\n",
      "  (right)\n"
     ]
    }
   ],
   "source": [
    "state = env.reset()\n",
    "env.render()\n",
    "for i in range(50):\n",
    "    action = greedy_policy[state]\n",
    "    state, reward, done, _ = env.step(action)\n",
    "    env.render()\n",
    "    if done : \n",
    "      break"
   ]
  },
  {
   "cell_type": "markdown",
   "metadata": {
    "colab_type": "text",
    "id": "AlcdUZ_wvS_w"
   },
   "source": [
    "## Q learning Algorithm\n",
    "Q learning is a model-free algorithm for estimating the optimal Q-function online.\n",
    "It is an off-policy algorithm since the samples are collected with a policy that is (potentially) not the one associated to the estimated Q-function.\n",
    "\n",
    "1. Implementation of  Q learning with $\\epsilon$-greedy exploration.\n",
    "what we'll do is : \n",
    "  - Plot the error in Q-functions over iterations\n",
    "  - Plot the sum of rewards as a function of iteration\n",
    "\n",
    "\n",
    "$\\epsilon$-greedy policy:\n",
    "$$\n",
    "\\pi(s) = \\begin{cases}\n",
    "\\max_a Q(s,a) & \\text{w.p.} 1- \\epsilon\\\\\n",
    "\\text{random action} & \\text{w.p.} \\epsilon\n",
    "\\end{cases}\n",
    "$$"
   ]
  },
  {
   "cell_type": "code",
   "execution_count": 0,
   "metadata": {
    "colab": {},
    "colab_type": "code",
    "id": "_t3WqIt-OPf5"
   },
   "outputs": [],
   "source": [
    "# ---------------------------\n",
    "# Q-Learning\n",
    "# ---------------------------\n",
    "# suggested interface\n",
    "# you can change it!\n",
    "class QLearning:\n",
    "    \"\"\"\n",
    "    Q learning with epsilon-greedy exploration\n",
    "    \"\"\"\n",
    "    def __init__(self,Q0,env,epsilon):\n",
    "        self.env=env\n",
    "        \"\"\"initialisation of Q function, and Epsilon is a \n",
    "        param of the epsilon greedy policy we'll use as an exploration policy \"\"\"\n",
    "        self.Q = Q0\n",
    "        self.epsilon=epsilon\n",
    "    def epsilon_greedy_policy(self,s):\n",
    "      \"\"\"Create epsilon-Gready Policy\"\"\"\n",
    "      A = np.ones(self.env.Na, dtype=float) * self.epsilon / self.env.Na\n",
    "      best_action = np.argmax(self.Q[s])\n",
    "      A[best_action] += 1-self.epsilon\n",
    "      return A\n",
    "    def sample_action(self, state):\n",
    "      action_probs = self.epsilon_greedy_policy(state)\n",
    "      action = np.random.choice(np.arange(len(action_probs)), p=action_probs)\n",
    "      next_state, reward, done, _ = self.env.step(action)\n",
    "      return next_state,reward,done,action            \n",
    "    def update(self, state, action, next_state, reward,alpha):\n",
    "      best_next_action = np.argmax(self.Q[next_state])    \n",
    "      td_target = reward + self.env.gamma * self.Q[next_state][best_next_action]\n",
    "      delta_t = td_target - self.Q[state][action]\n",
    "      self.Q[state][action] += alpha * delta_t\n"
   ]
  },
  {
   "cell_type": "code",
   "execution_count": 0,
   "metadata": {
    "colab": {},
    "colab_type": "code",
    "id": "Azos0LXKtyJc"
   },
   "outputs": [],
   "source": [
    "\n",
    "# --------------\n",
    "# Point 1\n",
    "# --------------\n",
    "# Number of Q learning steps\n",
    "#max_steps = int(1e5)  \n",
    "\n",
    "Q0 = np.zeros((env.Ns, env.Na))\n",
    "# Use the previous code to verify the correctness of q learning\n",
    "Q_opt, pi_opt,Q_hist = value_iteration(Q0, env, epsilon=1e-8)\n"
   ]
  },
  {
   "cell_type": "code",
   "execution_count": 0,
   "metadata": {
    "colab": {
     "base_uri": "https://localhost:8080/",
     "height": 513
    },
    "colab_type": "code",
    "id": "CKTc5nWIOPf6",
    "outputId": "d14db7ba-0c7e-4c35-84ee-cb408726380c"
   },
   "outputs": [
    {
     "name": "stdout",
     "output_type": "stream",
     "text": [
      "+-----------------------+\n",
      "| : : : : : : : : : : : |\n",
      "| : : : : : : : : : : : |\n",
      "| : : : : : : : : : : : |\n",
      "|S:x:x:x:x:x:x:x:x:x:x:\u001b[42mG\u001b[0m|\n",
      "+-----------------------+\n",
      "  (down)\n",
      "None\n",
      "optimal policy:  [2 2 2 2 2 2 2 2 2 2 2 0 2 2 2 2 2 2 2 2 2 2 2 2 2 2 2 2 2 2 2 2 2 2 2 2 1\n",
      " 0 0 0 0 0 0 0 0 0 0 0]\n",
      "    est policy: [3 2 2 2 0 0 3 0 0 2 2 2 3 0 0 0 0 3 3 3 0 0 2 1 3 0 3 3 2 2 3 2 3 0 2 0 3\n",
      " 3 3 3 3 3 3 3 3 3 3 0]\n"
     ]
    },
    {
     "data": {
      "text/plain": [
       "Text(0.5, 1.0, 'Q-learning: Convergence of Q')"
      ]
     },
     "execution_count": 24,
     "metadata": {
      "tags": []
     },
     "output_type": "execute_result"
    },
    {
     "data": {
      "image/png": "[encoded data removed]",
      "text/plain": [
       "<Figure size 432x288 with 1 Axes>"
      ]
     },
     "metadata": {
      "tags": []
     },
     "output_type": "display_data"
    }
   ],
   "source": [
    "\n",
    "# main algorithmic loop\n",
    "env.reset()\n",
    "Q0 = np.zeros((env.Ns, env.Na))\n",
    "norm_values = []\n",
    "t = 1\n",
    "epsilon=1\n",
    "alpha=0.5\n",
    "ql=QLearning(Q0,env,epsilon)\n",
    "max_steps = 60\n",
    "rewards=[]\n",
    "while t < max_steps:\n",
    "    state = ql.env.reset()\n",
    "    done=False\n",
    "    R=0\n",
    "    while not(done):\n",
    "      next_state,reward,done,action=ql.sample_action(state)\n",
    "      ql.update(state, action, next_state, reward,alpha)\n",
    "      state=next_state\n",
    "      R+=reward\n",
    "    rewards.append(R)\n",
    "    norm_values.append(np.abs(ql.Q - Q_opt).mean())\n",
    "    t = t + 1\n",
    "    alpha=1/(t**0.51)\n",
    "    \"\"\"we slowly decrease epsilon so we have more exploration \n",
    "    as we start but more exploitation as we go \"\"\"\n",
    "    if t%2==0:\n",
    "      ql.epsilon*=0.95\n",
    "    \n",
    "print(env.render())\n",
    "print(\"optimal policy: \", pi_opt)\n",
    "greedy_policy = np.argmax(ql.Q, axis=1)\n",
    "print(\"    est policy:\", greedy_policy)\n",
    "\n",
    "\n",
    "plt.plot(norm_values)\n",
    "plt.xlabel('Iteration')\n",
    "plt.ylabel('Error')\n",
    "plt.title(\"Q-learning: Convergence of Q\")\n",
    "\n",
    "# how confident are you in the performance of the algorithm? maybe a single run is not enough"
   ]
  },
  {
   "cell_type": "code",
   "execution_count": 0,
   "metadata": {
    "colab": {
     "base_uri": "https://localhost:8080/",
     "height": 312
    },
    "colab_type": "code",
    "id": "JfSsiqPxeKgt",
    "outputId": "cc7defde-1c74-48cf-d2ee-9d4db65b0499"
   },
   "outputs": [
    {
     "data": {
      "text/plain": [
       "Text(0.5, 1.0, 'Q-learning: Rewards sum ')"
      ]
     },
     "execution_count": 26,
     "metadata": {
      "tags": []
     },
     "output_type": "execute_result"
    },
    {
     "data": {
      "image/png": "[encoded data removed]",
      "text/plain": [
       "<Figure size 432x288 with 1 Axes>"
      ]
     },
     "metadata": {
      "tags": []
     },
     "output_type": "display_data"
    }
   ],
   "source": [
    "plt.plot(rewards)\n",
    "plt.xlabel('Iteration')\n",
    "plt.ylabel('rewards')\n",
    "plt.title(\"Q-learning: Rewards sum \")"
   ]
  },
  {
   "cell_type": "code",
   "execution_count": 0,
   "metadata": {
    "colab": {
     "base_uri": "https://localhost:8080/",
     "height": 312
    },
    "colab_type": "code",
    "id": "-mbL8JDyfmF9",
    "outputId": "3d07dd8a-adc2-4415-f85f-4ac27e727a1a"
   },
   "outputs": [
    {
     "data": {
      "text/plain": [
       "Text(0.5, 1.0, 'Q-learning: Rewards Cum sum ')"
      ]
     },
     "execution_count": 27,
     "metadata": {
      "tags": []
     },
     "output_type": "execute_result"
    },
    {
     "data": {
      "image/png": "[encoded data removed]",
      "text/plain": [
       "<Figure size 432x288 with 1 Axes>"
      ]
     },
     "metadata": {
      "tags": []
     },
     "output_type": "display_data"
    }
   ],
   "source": [
    "plt.plot(np.cumsum(rewards))\n",
    "plt.xlabel('Iteration')\n",
    "plt.ylabel('cumulative rewards')\n",
    "plt.title(\"Q-learning: Rewards Cum sum \")"
   ]
  }
 ],
 "metadata": {
  "accelerator": "GPU",
  "colab": {
   "collapsed_sections": [],
   "name": "Copy_of_MVARL19_part1.ipynb",
   "provenance": []
  },
  "kernelspec": {
   "display_name": "Python 3",
   "language": "python",
   "name": "python3"
  },
  "language_info": {
   "codemirror_mode": {
    "name": "ipython",
    "version": 3
   },
   "file_extension": ".py",
   "mimetype": "text/x-python",
   "name": "python",
   "nbconvert_exporter": "python",
   "pygments_lexer": "ipython3",
   "version": "3.7.4"
  }
 },
 "nbformat": 4,
 "nbformat_minor": 1
}
