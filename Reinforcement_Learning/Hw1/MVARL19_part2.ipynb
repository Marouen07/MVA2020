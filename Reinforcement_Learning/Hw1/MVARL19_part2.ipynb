{
 "cells": [
  {
   "cell_type": "markdown",
   "metadata": {
    "colab_type": "text",
    "id": "XJ_s4_nhhiyo"
   },
   "source": [
    "# Reinforcement Learning with Function Approximation"
   ]
  },
  {
   "cell_type": "code",
   "execution_count": 28,
   "metadata": {
    "colab": {
     "base_uri": "https://localhost:8080/",
     "height": 502
    },
    "colab_type": "code",
    "id": "WTOWkpoCiLmL",
    "outputId": "388398f8-c65b-490f-bd80-af9cc0d17cb6"
   },
   "outputs": [
    {
     "name": "stdout",
     "output_type": "stream",
     "text": [
      "Requirement already satisfied: torch==1.2.0 in /usr/local/lib/python3.6/dist-packages (1.2.0)\n",
      "Requirement already satisfied: torchvision in /usr/local/lib/python3.6/dist-packages (0.4.2)\n",
      "Requirement already satisfied: pyvirtualdisplay in /usr/local/lib/python3.6/dist-packages (0.2.4)\n",
      "Requirement already satisfied: matplotlib in /usr/local/lib/python3.6/dist-packages (3.1.1)\n",
      "Requirement already satisfied: seaborn in /usr/local/lib/python3.6/dist-packages (0.9.0)\n",
      "Requirement already satisfied: pandas in /usr/local/lib/python3.6/dist-packages (0.25.3)\n",
      "Requirement already satisfied: numpy in /usr/local/lib/python3.6/dist-packages (1.17.4)\n",
      "Requirement already satisfied: pathlib in /usr/local/lib/python3.6/dist-packages (1.0.1)\n",
      "Requirement already satisfied: gym in /usr/local/lib/python3.6/dist-packages (0.15.4)\n",
      "Requirement already satisfied: six in /usr/local/lib/python3.6/dist-packages (from torchvision) (1.12.0)\n",
      "Requirement already satisfied: pillow>=4.1.1 in /usr/local/lib/python3.6/dist-packages (from torchvision) (4.3.0)\n",
      "Requirement already satisfied: EasyProcess in /usr/local/lib/python3.6/dist-packages (from pyvirtualdisplay) (0.2.7)\n",
      "Requirement already satisfied: kiwisolver>=1.0.1 in /usr/local/lib/python3.6/dist-packages (from matplotlib) (1.1.0)\n",
      "Requirement already satisfied: pyparsing!=2.0.4,!=2.1.2,!=2.1.6,>=2.0.1 in /usr/local/lib/python3.6/dist-packages (from matplotlib) (2.4.5)\n",
      "Requirement already satisfied: python-dateutil>=2.1 in /usr/local/lib/python3.6/dist-packages (from matplotlib) (2.6.1)\n",
      "Requirement already satisfied: cycler>=0.10 in /usr/local/lib/python3.6/dist-packages (from matplotlib) (0.10.0)\n",
      "Requirement already satisfied: scipy>=0.14.0 in /usr/local/lib/python3.6/dist-packages (from seaborn) (1.3.2)\n",
      "Requirement already satisfied: pytz>=2017.2 in /usr/local/lib/python3.6/dist-packages (from pandas) (2018.9)\n",
      "Requirement already satisfied: pyglet<=1.3.2,>=1.2.0 in /usr/local/lib/python3.6/dist-packages (from gym) (1.3.2)\n",
      "Requirement already satisfied: cloudpickle~=1.2.0 in /usr/local/lib/python3.6/dist-packages (from gym) (1.2.2)\n",
      "Requirement already satisfied: opencv-python in /usr/local/lib/python3.6/dist-packages (from gym) (3.4.7.28)\n",
      "Requirement already satisfied: olefile in /usr/local/lib/python3.6/dist-packages (from pillow>=4.1.1->torchvision) (0.46)\n",
      "Requirement already satisfied: setuptools in /usr/local/lib/python3.6/dist-packages (from kiwisolver>=1.0.1->matplotlib) (41.6.0)\n",
      "Requirement already satisfied: future in /usr/local/lib/python3.6/dist-packages (from pyglet<=1.3.2,>=1.2.0->gym) (0.16.0)\n",
      "Reading package lists... Done\n",
      "Building dependency tree       \n",
      "Reading state information... Done\n",
      "xvfb is already the newest version (2:1.19.6-1ubuntu4.3).\n",
      "0 upgraded, 0 newly installed, 0 to remove and 29 not upgraded.\n"
     ]
    }
   ],
   "source": [
    "!pip install torch==1.2.0 torchvision pyvirtualdisplay matplotlib seaborn pandas numpy pathlib gym\n",
    "!sudo apt-get install xvfb\n",
    "!git clone https://github.com/rlgammazero/mvarl_hands_on.git > /dev/null 2>&1\n",
    "!cd mvarl_hands_on && git pull origin master > /dev/null 2>&1"
   ]
  },
  {
   "cell_type": "code",
   "execution_count": 29,
   "metadata": {
    "colab": {
     "base_uri": "https://localhost:8080/",
     "height": 100
    },
    "colab_type": "code",
    "id": "lUQgESHVNidr",
    "outputId": "e44b2e37-ec8c-4b57-ce2b-b049af71ccf6"
   },
   "outputs": [
    {
     "name": "stdout",
     "output_type": "stream",
     "text": [
      "\r",
      "Reading package lists... 0%\r",
      "\r",
      "Reading package lists... 0%\r",
      "\r",
      "Reading package lists... 0%\r",
      "\r",
      "Reading package lists... 7%\r",
      "\r",
      "Reading package lists... 7%\r",
      "\r",
      "Reading package lists... 7%\r",
      "\r",
      "Reading package lists... 7%\r",
      "\r",
      "Reading package lists... 66%\r",
      "\r",
      "Reading package lists... 66%\r",
      "\r",
      "Reading package lists... 67%\r",
      "\r",
      "Reading package lists... 67%\r",
      "\r",
      "Reading package lists... 71%\r",
      "\r",
      "Reading package lists... 73%\r",
      "\r",
      "Reading package lists... 73%\r",
      "\r",
      "Reading package lists... 73%\r",
      "\r",
      "Reading package lists... 73%\r",
      "\r",
      "Reading package lists... 83%\r",
      "\r",
      "Reading package lists... 83%\r",
      "\r",
      "Reading package lists... 83%\r",
      "\r",
      "Reading package lists... 83%\r",
      "\r",
      "Reading package lists... 83%\r",
      "\r",
      "Reading package lists... 83%\r",
      "\r",
      "Reading package lists... 83%\r",
      "\r",
      "Reading package lists... 83%\r",
      "\r",
      "Reading package lists... 87%\r",
      "\r",
      "Reading package lists... 87%\r",
      "\r",
      "Reading package lists... 88%\r",
      "\r",
      "Reading package lists... 88%\r",
      "\r",
      "Reading package lists... 93%\r",
      "\r",
      "Reading package lists... 93%\r",
      "\r",
      "Reading package lists... 93%\r",
      "\r",
      "Reading package lists... 93%\r",
      "\r",
      "Reading package lists... 94%\r",
      "\r",
      "Reading package lists... 94%\r",
      "\r",
      "Reading package lists... 94%\r",
      "\r",
      "Reading package lists... 94%\r",
      "\r",
      "Reading package lists... 95%\r",
      "\r",
      "Reading package lists... 95%\r",
      "\r",
      "Reading package lists... 98%\r",
      "\r",
      "Reading package lists... 98%\r",
      "\r",
      "Reading package lists... 98%\r",
      "\r",
      "Reading package lists... 98%\r",
      "\r",
      "Reading package lists... Done\r\n",
      "\r",
      "Building dependency tree... 0%\r",
      "\r",
      "Building dependency tree... 0%\r",
      "\r",
      "Building dependency tree... 50%\r",
      "\r",
      "Building dependency tree... 50%\r",
      "\r",
      "Building dependency tree       \r\n",
      "\r",
      "Reading state information... 0%\r",
      "\r",
      "Reading state information... 0%\r",
      "\r",
      "Reading state information... Done\r\n",
      "x11-utils is already the newest version (7.7+3build1).\n",
      "0 upgraded, 0 newly installed, 0 to remove and 29 not upgraded.\n"
     ]
    }
   ],
   "source": [
    "!apt-get install x11-utils"
   ]
  },
  {
   "cell_type": "code",
   "execution_count": 0,
   "metadata": {
    "colab": {},
    "colab_type": "code",
    "id": "gCsyvh4NhjUc"
   },
   "outputs": [],
   "source": [
    "import torch\n",
    "import torch.nn as nn\n",
    "import torch.nn.functional as F \n",
    "from torch import optim\n",
    "from pathlib import Path\n",
    "import numpy as np\n",
    "import base64 \n",
    "import gym\n",
    "from gym.wrappers import Monitor\n",
    "from pprint import pprint\n",
    "from pyvirtualdisplay import Display\n",
    "from IPython import display as ipythondisplay\n",
    "from IPython.display import clear_output\n",
    "import pandas as pd \n",
    "import itertools\n",
    "import seaborn as sns \n",
    "# The following code is will be used to visualize the environments.\n",
    "\n",
    "def show_video(directory):\n",
    "    html = []\n",
    "    for mp4 in Path(directory).glob(\"*.mp4\"):\n",
    "        video_b64 = base64.b64encode(mp4.read_bytes())\n",
    "        html.append('''<video alt=\"{}\" autoplay \n",
    "                      loop controls style=\"height: 400px;\">\n",
    "                      <source src=\"data:video/mp4;base64,{}\" type=\"video/mp4\" />\n",
    "                 </video>'''.format(mp4, video_b64.decode('ascii')))\n",
    "    ipythondisplay.display(ipythondisplay.HTML(data=\"<br>\".join(html)))\n",
    "    \n",
    "display = Display(visible=0, size=(1400, 900))\n",
    "display.start();\n",
    "\n",
    "def make_seed(seed):\n",
    "    np.random.seed(seed=seed)\n",
    "    torch.manual_seed(seed=seed)"
   ]
  },
  {
   "cell_type": "markdown",
   "metadata": {
    "colab_type": "text",
    "id": "ThnSNaSMhnXa"
   },
   "source": [
    "PyTorch is a Python package that provides two high-level features:\n",
    "- Tensor computation (like NumPy) with strong GPU acceleration\n",
    "- Deep neural networks built on a tape-based autograd system\n",
    "\n",
    "At a granular level, PyTorch is a library that consists of the following components:\n",
    "\n",
    "| Component | Description |\n",
    "| ---- | --- |\n",
    "| [**torch**](https://pytorch.org/docs/stable/torch.html) | a Tensor library like NumPy, with strong GPU support |\n",
    "| [**torch.autograd**](https://pytorch.org/docs/stable/autograd.html) | a tape-based automatic differentiation library that supports all differentiable Tensor operations in torch |\n",
    "| [**torch.jit**](https://pytorch.org/docs/stable/jit.html) | a compilation stack (TorchScript) to create serializable and optimizable models from PyTorch code  |\n",
    "| [**torch.nn**](https://pytorch.org/docs/stable/nn.html) | a neural networks library deeply integrated with autograd designed for maximum flexibility |\n",
    "| [**torch.multiprocessing**](https://pytorch.org/docs/stable/multiprocessing.html) | Python multiprocessing, but with magical memory sharing of torch Tensors across processes. Useful for data loading and Hogwild training |\n",
    "| [**torch.utils**](https://pytorch.org/docs/stable/data.html) | DataLoader and other utility functions for convenience |\n",
    "\n",
    "\n",
    "**Tutorials on PyTorch:** https://pytorch.org/tutorials/\n"
   ]
  },
  {
   "cell_type": "markdown",
   "metadata": {
    "colab_type": "text",
    "id": "WlZQl9TjhuWY"
   },
   "source": [
    "## OpenAI gym\n",
    "We will consider environments provided by OpenAI gym\n",
    "This library provides a large number of environments to test RL algorithm.\n",
    "\n",
    "We will focus on the **CartPole-v1** environment in this lab but we encourage you to also test your code on:\n",
    "* **Acrobot-v1**\n",
    "* **MountainCar-v0**\n",
    "\n",
    "| Env Info          \t| CartPole-v1 \t| Acrobot-v1                \t| MountainCar-v0 \t|\n",
    "|-------------------\t|-------------\t|---------------------------\t|----------------\t|\n",
    "| **Observation Space** \t| Box(4)      \t| Box(6)                    \t| Box(2)         \t|\n",
    "| **Action Space**      \t| Discrete(2) \t| Discrete(3)               \t| Discrete(3)    \t|\n",
    "| **Rewards**           \t| 1 per step  \t| -1 if not terminal else 0 \t| -1 per step    \t|\n",
    "\n",
    "A gym environment is loaded with the command `env = gym.make(env_id)`. Once the environment is created, you need to reset it with `observation = env.reset()` and then you can interact with it using the method step: `observation, reward, done, info = env.step(action)`."
   ]
  },
  {
   "cell_type": "code",
   "execution_count": 0,
   "metadata": {
    "colab": {},
    "colab_type": "code",
    "id": "3wfHvW9Hh4H3"
   },
   "outputs": [],
   "source": [
    "# We load CartPole-v1\n",
    "env = gym.make('CartPole-v1')\n",
    "# We wrap it in order to save our experiment on a file.\n",
    "env = Monitor(env, \"./gym-results\", force=True)"
   ]
  },
  {
   "cell_type": "code",
   "execution_count": 32,
   "metadata": {
    "colab": {
     "base_uri": "https://localhost:8080/",
     "height": 420
    },
    "colab_type": "code",
    "id": "2-fFj5sDiA0C",
    "outputId": "999d69bf-af2b-4b42-dafa-ebe44fb7ec6b"
   },
   "outputs": [
    {
     "data": {
      "text/html": [
       "<video alt=\"gym-results/openaigym.video.4.124.video000000.mp4\" autoplay \n",
       "                      loop controls style=\"height: 400px;\">\n",
       "                      <source src=\"data:video/mp4;base64,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\" type=\"video/mp4\" />\n",
       "                 </video>"
      ],
      "text/plain": [
       "<IPython.core.display.HTML object>"
      ]
     },
     "metadata": {
      "tags": []
     },
     "output_type": "display_data"
    }
   ],
   "source": [
    "done = False\n",
    "obs = env.reset()\n",
    "while not done:\n",
    "    action = env.action_space.sample()\n",
    "    obs, reward, done, info = env.step(action)\n",
    "env.close()\n",
    "show_video(\"./gym-results\")"
   ]
  },
  {
   "cell_type": "markdown",
   "metadata": {
    "colab_type": "text",
    "id": "sd2xLlapilZE"
   },
   "source": [
    "## REINFORCE\n",
    "\n",
    "**Implementation of the REINFORCE algorithm**\n",
    "\n",
    "The code is splitted in two parts:\n",
    "* The Model class defines the architecture of our neural network which takes as input the current state and returns the policy,\n",
    "* The Agent class is responsible for the training and evaluation procedure. You will need to code the method `optimize_model`."
   ]
  },
  {
   "cell_type": "code",
   "execution_count": 0,
   "metadata": {
    "colab": {},
    "colab_type": "code",
    "id": "iwsQ8NSPiCz7"
   },
   "outputs": [],
   "source": [
    "class Model(nn.Module):\n",
    "    def __init__(self, dim_observation, n_actions):\n",
    "        super(Model, self).__init__()\n",
    "        \n",
    "        self.n_actions = n_actions\n",
    "        self.dim_observation = dim_observation\n",
    "        \n",
    "        self.net = nn.Sequential(\n",
    "            nn.Linear(in_features=self.dim_observation, out_features=16),\n",
    "            nn.ReLU(),\n",
    "            nn.Linear(in_features=16, out_features=8),\n",
    "            nn.ReLU(),\n",
    "            nn.Linear(in_features=8, out_features=self.n_actions),\n",
    "            nn.Softmax(dim=0)\n",
    "        )\n",
    "        \n",
    "    def forward(self, state):\n",
    "        return self.net(state)\n",
    "    \n",
    "    def select_action(self, state):\n",
    "        action = torch.multinomial(self.forward(state), 1)\n",
    "        return action"
   ]
  },
  {
   "cell_type": "markdown",
   "metadata": {
    "colab_type": "text",
    "id": "xrgtQMYbiwX7"
   },
   "source": [
    "Create the model based on the properties of the MDP you want to solve"
   ]
  },
  {
   "cell_type": "code",
   "execution_count": 34,
   "metadata": {
    "colab": {
     "base_uri": "https://localhost:8080/",
     "height": 201
    },
    "colab_type": "code",
    "id": "S6ieL_KJirq9",
    "outputId": "990100e6-609e-4667-f7e5-a2721d4cb070"
   },
   "outputs": [
    {
     "name": "stdout",
     "output_type": "stream",
     "text": [
      "The model we created correspond to:\n",
      "Model(\n",
      "  (net): Sequential(\n",
      "    (0): Linear(in_features=4, out_features=16, bias=True)\n",
      "    (1): ReLU()\n",
      "    (2): Linear(in_features=16, out_features=8, bias=True)\n",
      "    (3): ReLU()\n",
      "    (4): Linear(in_features=8, out_features=2, bias=True)\n",
      "    (5): Softmax(dim=0)\n",
      "  )\n",
      ")\n"
     ]
    }
   ],
   "source": [
    "env_id = 'CartPole-v1'\n",
    "env = gym.make(env_id)\n",
    "model = Model(env.observation_space.shape[0], env.action_space.n)\n",
    "print(f'The model we created correspond to:\\n{model}')"
   ]
  },
  {
   "cell_type": "markdown",
   "metadata": {
    "colab_type": "text",
    "id": "WwrVF9kti1e-"
   },
   "source": [
    " base agent (as an abstract class) that will be extended in the next cell with an implementation of `optimize_model`."
   ]
  },
  {
   "cell_type": "code",
   "execution_count": 0,
   "metadata": {
    "colab": {},
    "colab_type": "code",
    "id": "DWvKO66ii1zh"
   },
   "outputs": [],
   "source": [
    "class BaseAgent:\n",
    "    \n",
    "    def __init__(self, config):\n",
    "        self.config = config\n",
    "        self.env = gym.make(config['env_id'])\n",
    "        make_seed(config['seed'])\n",
    "        self.env.seed(config['seed'])\n",
    "        self.model = Model(self.env.observation_space.shape[0], self.env.action_space.n)\n",
    "        self.model=self.model.float()\n",
    "        self.gamma = config['gamma']\n",
    "        \n",
    "        # the optimizer used by PyTorch (Stochastic Gradient, Adagrad, Adam, etc.)\n",
    "        self.optimizer = torch.optim.Adam(self.model.net.parameters(), lr=config['learning_rate'])\n",
    "        self.monitor_env = Monitor(env, \"./gym-results\", force=True, video_callable=lambda episode: True)\n",
    "    \n",
    "    # Method to implement\n",
    "    def _compute_returns(self, rewards):\n",
    "        \"\"\"Returns the cumulative discounted rewards at each time step\n",
    "\n",
    "        Parameters\n",
    "        ----------\n",
    "        rewards : array\n",
    "            The array of rewards of one episode\n",
    "\n",
    "        Returns\n",
    "        -------\n",
    "        array\n",
    "            The cumulative discounted rewards at each time step\n",
    "            \n",
    "        Example\n",
    "        -------\n",
    "        for rewards=[1, 2, 3] this method outputs [1 + 2 * gamma + 3 * gamma**2, 2 + 3 * gamma, 3] \n",
    "        \"\"\"\n",
    "        \n",
    "        raise NotImplementedError\n",
    "    \n",
    "    # Method to implement\n",
    "    def optimize_model(self, n_trajectories):\n",
    "        \"\"\"Perform a gradient update using n_trajectories\n",
    "\n",
    "        Parameters\n",
    "        ----------\n",
    "        n_trajectories : int\n",
    "            The number of trajectories used to approximate the expectation card(D) in the formula above\n",
    "        \n",
    "        Returns\n",
    "        -------\n",
    "        array\n",
    "            The cumulative discounted rewards of each trajectory\n",
    "        \"\"\"\n",
    "        \n",
    "        raise NotImplementedError\n",
    "    \n",
    "    def train(self, n_trajectories, n_update):\n",
    "        \"\"\"Training method\n",
    "\n",
    "        Parameters\n",
    "        ----------\n",
    "        n_trajectories : int\n",
    "            The number of trajectories used to approximate the expected gradient\n",
    "        n_update : int\n",
    "            The number of gradient updates\n",
    "            \n",
    "        \"\"\"\n",
    "        \n",
    "        rewards = []\n",
    "        for episode in range(n_update):\n",
    "            rewards.append(self.optimize_model(n_trajectories))\n",
    "            print(f'Episode {episode + 1}/{n_update}: rewards {round(rewards[-1].mean(), 2)} +/- {round(rewards[-1].std(), 2)}')\n",
    "        \n",
    "        # Plotting\n",
    "        r = pd.DataFrame((itertools.chain(*(itertools.product([i], rewards[i]) for i in range(len(rewards))))), columns=['Epoch', 'Reward'])\n",
    "        sns.lineplot(x=\"Epoch\", y=\"Reward\", data=r, ci='sd');\n",
    "        \n",
    "    def evaluate(self, render=False):\n",
    "        \"\"\"Evaluate the agent on a single trajectory            \n",
    "        \"\"\"\n",
    "        with torch.no_grad():\n",
    "            \n",
    "            observation = torch.from_numpy(self.monitor_env.reset()).float()\n",
    "            reward_episode = 0\n",
    "            done = False\n",
    "                \n",
    "            while not done:\n",
    "                action = self.model.select_action(observation)\n",
    "                observation, reward, done, info = self.monitor_env.step(int(action))\n",
    "                observation = torch.tensor(observation, dtype=torch.float)\n",
    "                reward_episode += reward\n",
    "            \n",
    "            self.monitor_env.close()\n",
    "            if render:\n",
    "                show_video(\"./gym-results\")\n",
    "                print(f'Reward: {reward_episode}')\n",
    "            print(f'Reward: {reward_episode}')"
   ]
  },
  {
   "cell_type": "markdown",
   "metadata": {
    "colab_type": "text",
    "id": "Y6mhw_A3i_8R"
   },
   "source": [
    "Finally agent implementation"
   ]
  },
  {
   "cell_type": "code",
   "execution_count": 0,
   "metadata": {
    "colab": {},
    "colab_type": "code",
    "id": "lbjP-7WHi9oc"
   },
   "outputs": [],
   "source": [
    "class REINFORCE(BaseAgent):\n",
    "    \n",
    "    def _compute_returns(self, rewards):\n",
    "\n",
    "      cum_discounted_rewards = []\n",
    "      for t in range(len(rewards)):\n",
    "          R_t = 0 \n",
    "          pw = 0\n",
    "          for r in rewards[t:]:\n",
    "              R_t+= + self.gamma**pw * r\n",
    "              pw = pw + 1\n",
    "          \"\"\"Notice here that We don't do any normalization for the rewards we could do this \n",
    "        as this is common practice even though we're treating one single type of data\"\"\"\n",
    "          cum_discounted_rewards.append(R_t)\n",
    "      return cum_discounted_rewards    \n",
    "        \n",
    "    def optimize_model(self, n_trajectories):\n",
    "        loss=[]\n",
    "        reward_trajectories= []\n",
    "        for trajectory in range(n_trajectories):\n",
    "          done=False \n",
    "          state = torch.from_numpy(self.env.reset()).float()\n",
    "          log_prob = []\n",
    "          rewards = []\n",
    "          while not(done):\n",
    "            action=self.model.select_action(state)\n",
    "            action_proba=self.model.forward(state)[action]\n",
    "            new_state, reward, done, _ = self.env.step(int(action))\n",
    "            log_prob.append(torch.log(action_proba))\n",
    "            rewards.append(reward)\n",
    "            state = torch.from_numpy(new_state).float()\n",
    "          rewards=self._compute_returns(rewards)\n",
    "          policy_gradient = []\n",
    "          for log_proba, R_t in zip(log_prob, rewards):\n",
    "            policy_gradient.append(-log_proba * R_t)       \n",
    "          policy_gradient = torch.stack(policy_gradient).sum()\n",
    "          loss.append(policy_gradient)\n",
    "          reward_trajectories.append(rewards[0])\n",
    "          \n",
    "        loss=torch.stack(loss)*torch.tensor([1/n_trajectories],dtype=torch.float)\n",
    "        loss=loss.sum()\n",
    "    \n",
    "        # Discard previous gradients\n",
    "        self.optimizer.zero_grad()\n",
    "        # Compute the gradient \n",
    "        loss.backward()\n",
    "        # Do the gradient descent step\n",
    "        self.optimizer.step()\n",
    "        return np.array(reward_trajectories)\n",
    "    "
   ]
  },
  {
   "cell_type": "code",
   "execution_count": 37,
   "metadata": {
    "colab": {
     "base_uri": "https://localhost:8080/",
     "height": 50
    },
    "colab_type": "code",
    "id": "vZAo0K8VjCYj",
    "outputId": "13837318-86c3-49aa-ec92-e874e84dfa60"
   },
   "outputs": [
    {
     "name": "stdout",
     "output_type": "stream",
     "text": [
      "Current config is:\n",
      "{'env_id': 'CartPole-v1', 'gamma': 1, 'learning_rate': 0.01, 'seed': 1235}\n"
     ]
    }
   ],
   "source": [
    "env_id = 'CartPole-v1'\n",
    "learning_rate = 0.01\n",
    "gamma = 1 \n",
    "seed = 1235\n",
    "\n",
    "config = {\n",
    "    'env_id': env_id,\n",
    "    'learning_rate': learning_rate,\n",
    "    'seed': seed,\n",
    "    'gamma': gamma\n",
    "}\n",
    "\n",
    "print(\"Current config is:\")\n",
    "pprint(config)\n"
   ]
  },
  {
   "cell_type": "code",
   "execution_count": 38,
   "metadata": {
    "colab": {
     "base_uri": "https://localhost:8080/",
     "height": 1000
    },
    "colab_type": "code",
    "id": "D4Ag7E3qjJas",
    "outputId": "d85a3688-7ad0-440b-a476-631086140afc"
   },
   "outputs": [
    {
     "name": "stdout",
     "output_type": "stream",
     "text": [
      "Episode 1/50: rewards 16.9 +/- 6.2\n",
      "Episode 2/50: rewards 22.48 +/- 9.21\n",
      "Episode 3/50: rewards 22.7 +/- 11.96\n",
      "Episode 4/50: rewards 23.44 +/- 11.93\n",
      "Episode 5/50: rewards 23.22 +/- 10.76\n",
      "Episode 6/50: rewards 23.94 +/- 11.23\n",
      "Episode 7/50: rewards 24.26 +/- 12.03\n",
      "Episode 8/50: rewards 25.64 +/- 14.97\n",
      "Episode 9/50: rewards 25.28 +/- 16.45\n",
      "Episode 10/50: rewards 28.86 +/- 17.01\n",
      "Episode 11/50: rewards 24.1 +/- 13.8\n",
      "Episode 12/50: rewards 32.84 +/- 19.68\n",
      "Episode 13/50: rewards 32.58 +/- 15.62\n",
      "Episode 14/50: rewards 27.54 +/- 15.25\n",
      "Episode 15/50: rewards 34.42 +/- 16.96\n",
      "Episode 16/50: rewards 39.12 +/- 21.17\n",
      "Episode 17/50: rewards 34.34 +/- 18.91\n",
      "Episode 18/50: rewards 36.7 +/- 19.33\n",
      "Episode 19/50: rewards 34.42 +/- 24.69\n",
      "Episode 20/50: rewards 36.5 +/- 20.19\n",
      "Episode 21/50: rewards 43.3 +/- 21.38\n",
      "Episode 22/50: rewards 45.04 +/- 19.35\n",
      "Episode 23/50: rewards 42.98 +/- 22.19\n",
      "Episode 24/50: rewards 48.56 +/- 28.32\n",
      "Episode 25/50: rewards 48.58 +/- 25.65\n",
      "Episode 26/50: rewards 55.1 +/- 31.98\n",
      "Episode 27/50: rewards 58.4 +/- 42.99\n",
      "Episode 28/50: rewards 56.8 +/- 21.67\n",
      "Episode 29/50: rewards 58.36 +/- 25.86\n",
      "Episode 30/50: rewards 71.72 +/- 45.17\n",
      "Episode 31/50: rewards 63.12 +/- 26.54\n",
      "Episode 32/50: rewards 74.18 +/- 33.06\n",
      "Episode 33/50: rewards 91.2 +/- 35.47\n",
      "Episode 34/50: rewards 88.46 +/- 37.87\n",
      "Episode 35/50: rewards 95.94 +/- 43.58\n",
      "Episode 36/50: rewards 100.62 +/- 40.26\n",
      "Episode 37/50: rewards 117.28 +/- 46.62\n",
      "Episode 38/50: rewards 121.1 +/- 45.93\n",
      "Episode 39/50: rewards 125.84 +/- 41.61\n",
      "Episode 40/50: rewards 137.02 +/- 32.32\n",
      "Episode 41/50: rewards 132.96 +/- 36.95\n",
      "Episode 42/50: rewards 131.22 +/- 34.25\n",
      "Episode 43/50: rewards 137.74 +/- 30.83\n",
      "Episode 44/50: rewards 159.16 +/- 45.09\n",
      "Episode 45/50: rewards 169.86 +/- 57.49\n",
      "Episode 46/50: rewards 192.5 +/- 69.17\n",
      "Episode 47/50: rewards 199.98 +/- 78.09\n",
      "Episode 48/50: rewards 226.84 +/- 71.61\n",
      "Episode 49/50: rewards 242.74 +/- 87.31\n",
      "Episode 50/50: rewards 256.02 +/- 92.47\n"
     ]
    },
    {
     "data": {
      "image/png": "[encoded data removed]",
      "text/plain": [
       "<Figure size 432x288 with 1 Axes>"
      ]
     },
     "metadata": {
      "tags": []
     },
     "output_type": "display_data"
    }
   ],
   "source": [
    "agent = REINFORCE(config)\n",
    "agent.train(n_trajectories=50, n_update=50)"
   ]
  },
  {
   "cell_type": "markdown",
   "metadata": {
    "colab_type": "text",
    "id": "q3_dvBl8jUc3"
   },
   "source": [
    "Evaluate the agent over multiple episodes"
   ]
  },
  {
   "cell_type": "code",
   "execution_count": 0,
   "metadata": {
    "colab": {},
    "colab_type": "code",
    "id": "aPyqbIiCjO_-"
   },
   "outputs": [],
   "source": [
    "#agent.evaluate()"
   ]
  },
  {
   "cell_type": "markdown",
   "metadata": {
    "colab_type": "text",
    "id": "LHM2_CRFkNoA"
   },
   "source": [
    "## Policy Evaluation as Supervised Learning\n",
    "\n",
    "** Implementation of batched gradient algorithm**\n",
    "\n",
    "Definition of Neural Network for Q-function (ValueNetwork) and policy (ActorNetwork)\n"
   ]
  },
  {
   "cell_type": "code",
   "execution_count": 0,
   "metadata": {
    "colab": {},
    "colab_type": "code",
    "id": "W9sxcz_eKF1M"
   },
   "outputs": [],
   "source": [
    "class ValueNetwork(nn.Module):\n",
    "\n",
    "    def __init__(self, input_size, hidden_size, output_size):\n",
    "        super(ValueNetwork, self).__init__()\n",
    "        self.fc1 = nn.Linear(input_size, hidden_size)\n",
    "        self.fc2 = nn.Linear(hidden_size, hidden_size)\n",
    "        self.fc3 = nn.Linear(hidden_size, output_size)\n",
    "\n",
    "    def forward(self, x):\n",
    "        out = F.relu(self.fc1(x))\n",
    "        out = F.relu(self.fc2(out))\n",
    "        out = self.fc3(out)\n",
    "        return out\n",
    "    \n",
    "    def predict(self, x):\n",
    "        return self(x).detach().numpy()[0]"
   ]
  },
  {
   "cell_type": "code",
   "execution_count": 0,
   "metadata": {
    "colab": {},
    "colab_type": "code",
    "id": "1GKxKzs5khxM"
   },
   "outputs": [],
   "source": [
    "class ActorNetwork(nn.Module):\n",
    "\n",
    "    def __init__(self, input_size, hidden_size, action_size):\n",
    "        super(ActorNetwork, self).__init__()\n",
    "        self.fc1 = nn.Linear(input_size, hidden_size)\n",
    "        self.fc2 = nn.Linear(hidden_size, hidden_size)\n",
    "        self.fc3 = nn.Linear(hidden_size, action_size)\n",
    "\n",
    "    def forward(self, x):\n",
    "        out = F.relu(self.fc1(x))\n",
    "        out = F.relu(self.fc2(out))\n",
    "        out = F.softmax(self.fc3(out), dim=-1)\n",
    "        return out\n",
    "    \n",
    "    def select_action(self, x):\n",
    "        return torch.multinomial(self(x), 1).detach().numpy()"
   ]
  },
  {
   "cell_type": "markdown",
   "metadata": {
    "colab_type": "text",
    "id": "aBpNVkaAKLQz"
   },
   "source": [
    "Implementation of (batched) gradient algorithm\n",
    "\n"
   ]
  },
  {
   "cell_type": "code",
   "execution_count": 0,
   "metadata": {
    "colab": {},
    "colab_type": "code",
    "id": "QQ4Wu5B5KIIO"
   },
   "outputs": [],
   "source": [
    "class EvalAgent:\n",
    "\n",
    "    def __init__(self, config, policy):\n",
    "        self.config = config\n",
    "        self.env = gym.make(config['env_id'])\n",
    "        make_seed(config['seed'])\n",
    "        self.env.seed(config['seed'])\n",
    "        self.monitor_env = Monitor(self.env, \"./gym-results\", force=True, video_callable=lambda episode: True)\n",
    "        self.gamma = config['gamma']\n",
    "        self.policy = policy\n",
    "\n",
    "        # Our network\n",
    "        self.value_network = ValueNetwork(self.env.observation_space.shape[0], 16, 1)\n",
    "\n",
    "        # optimizers\n",
    "        self.value_network_optimizer = optim.RMSprop(self.value_network.parameters(), \n",
    "                                                   lr=config['value_network']['learning_rate'])\n",
    "    \n",
    "    def _returns_advantages(self, rewards, dones, next_value):\n",
    "      \"\"\"Returns the cumulative discounted rewards at each time step\n",
    "\n",
    "        Parameters\n",
    "        ----------\n",
    "        rewards : array\n",
    "            An array of shape (batch_size,) containing the rewards given by the env\n",
    "        dones : array\n",
    "            An array of shape (batch_size,) containing the done bool indicator given by the env\n",
    "        next_value : float\n",
    "            The value of the next state given by the value network\n",
    "\n",
    "        Returns\n",
    "        -------\n",
    "        returns : array\n",
    "            The cumulative discounted rewards\n",
    "        \"\"\"\n",
    "\n",
    "      \"\"\" this time we need to discount backwards starting either from the next_value if no done=True \n",
    "        or if done=True we can start discounting (backwards) \"\"\"\n",
    "      \n",
    "      cum_discounted_rewards = [next_value]\n",
    "      for t in range(len(rewards)-1,-1,-1):\n",
    "        if not dones[t]:\n",
    "          cum_discounted_rewards+=[rewards[t]+cum_discounted_rewards[-1]*self.gamma]\n",
    "        else:\n",
    "          cum_discounted_rewards+=[rewards[t]]\n",
    "      cum_discounted_rewards=np.array(cum_discounted_rewards[1:])[::-1]\n",
    "      return cum_discounted_rewards.ravel()\n",
    "    \n",
    "    \n",
    "    def optimize_model(self, observations, actions, returns, advantages):\n",
    "        \"\"\"Perform a gradient update using provided transitions\n",
    "\n",
    "        Parameters\n",
    "        ----------\n",
    "        observations : array\n",
    "            The observations\n",
    "        actions : array\n",
    "            The actions\n",
    "        returns : array\n",
    "            The returns from each state\n",
    "\n",
    "        Returns\n",
    "        -------\n",
    "        loss_value: int\n",
    "            The loss value\n",
    "        \"\"\"\n",
    "\n",
    "        actions = F.one_hot(torch.tensor(actions), self.env.action_space.n)\n",
    "        returns = torch.tensor(returns[:, None], dtype=torch.float)\n",
    "        observations = torch.tensor(observations, dtype=torch.float)\n",
    "        #Here we pass the whole batch to the loss function with mean reduction\n",
    "        values=self.value_network(observations) \n",
    "        \n",
    "        loss=F.mse_loss(returns,values)\n",
    "        # Discard previous gradients\n",
    "        self.value_network_optimizer.zero_grad() \n",
    "        # Compute the gradient \n",
    "        loss.backward()\n",
    "        # Do the gradient descent step\n",
    "        self.value_network_optimizer.step()\n",
    "        return loss.item()\n",
    "    def training_batch(self, epochs, batch_size):\n",
    "        \"\"\"Perform a training by batch\n",
    "\n",
    "        Parameters\n",
    "        ----------\n",
    "        epochs : int\n",
    "            Number of epochs\n",
    "        batch_size : int\n",
    "            The size of a batch\n",
    "        \"\"\"\n",
    "        episode_count = 0\n",
    "        actions = np.empty((batch_size,), dtype=np.int)\n",
    "        dones = np.empty((batch_size,), dtype=np.bool)\n",
    "        rewards, values = np.empty((2, batch_size), dtype=np.float)\n",
    "        observations = np.empty((batch_size,) + self.env.observation_space.shape, dtype=np.float)\n",
    "        observation = self.env.reset()\n",
    "        mse_test = []\n",
    "\n",
    "        for epoch in range(epochs):\n",
    "            # Lets collect one batch\n",
    "            for i in range(batch_size):\n",
    "              #tensors and numpy array share same memory location\n",
    "              observations[i] = observation\n",
    "              state=torch.from_numpy(observation).float()\n",
    "              action=self.policy.select_action(state)\n",
    "              actions[i] = action.item()\n",
    "              new_state, reward, done, _ = self.env.step(int(action))\n",
    "              rewards[i]=reward\n",
    "              dones[i]=done\n",
    "              state = torch.from_numpy(new_state).float()\n",
    "              observation=new_state\n",
    "              if dones[i]:\n",
    "                  observation = self.env.reset()\n",
    "            # If our epiosde didn't end on the last step we need to compute the value for the last state\n",
    "            if dones[-1]:\n",
    "                next_value = 0\n",
    "\n",
    "            else:\n",
    "                next_value = self.value_network(torch.tensor(new_state, dtype = torch.float)).item()\n",
    "\n",
    "            # Update episode_count\n",
    "            episode_count += sum(dones)\n",
    "\n",
    "            # Compute returns\n",
    "            returns = self._returns_advantages(rewards, dones, next_value)\n",
    "           \n",
    "            # Learning step !\n",
    "            \n",
    "            self.optimize_model(observations, actions, returns,'')\n",
    "\n",
    "            # Test it every 50 epochs\n",
    "            if epoch % 25 == 0 or epoch == epochs - 1:\n",
    "                L = []\n",
    "                for _ in range(10):\n",
    "                    obs_states, y_mc = self.evaluate()\n",
    "                    y_hat = self.value_network(torch.tensor(obs_states , dtype = torch.float)).detach().numpy()\n",
    "                    err = y_mc - y_hat\n",
    "                    mse = np.mean(err**2)\n",
    "                    L.append(mse.item())\n",
    "                mse_test.append(L)\n",
    "                print(f'Epoch {epoch}/{epochs}: MSE: {np.mean(mse)}')\n",
    "\n",
    "                observation = self.env.reset()\n",
    "\n",
    "        # Plotting\n",
    "        r = pd.DataFrame((itertools.chain(*(itertools.product([i], mse_test[i]) for i in range(len(mse_test))))), columns=['Epoch', 'MSE'])\n",
    "        sns.lineplot(x=\"Epoch\", y=\"MSE\", data=r, ci='sd');\n",
    "\n",
    "        print(f'The trainnig was done over a total of {episode_count} episodes')\n",
    "\n",
    "    def evaluate(self, render=False):\n",
    "        \"\"\"Returns the observations and the estimated V-function (using first visit Monte-Carlo)\n",
    "\n",
    "        Parameters\n",
    "        ----------\n",
    "        rewards : array\n",
    "            An array of shape (batch_size,) containing the rewards given by the env\n",
    "        dones : array\n",
    "            An array of shape (batch_size,) containing the done bool indicator given by the env\n",
    "        values : array\n",
    "            An array of shape (batch_size,) containing the values given by the value network\n",
    "        next_value : float\n",
    "            The value of the next state given by the value network\n",
    "\n",
    "        Returns\n",
    "        -------\n",
    "        states : array\n",
    "            Observations\n",
    "        returns : array\n",
    "            The estimate value function of each state\n",
    "        \"\"\"\n",
    "        env = self.monitor_env if render else self.env\n",
    "        observation = env.reset()\n",
    "        states = [observation.copy()]\n",
    "        rewards= []\n",
    "        observation = torch.tensor(observation, dtype=torch.float)\n",
    "        done = False\n",
    "        steps = 0\n",
    "\n",
    "        while not done:\n",
    "            action = self.policy.select_action(observation) \n",
    "            observation, reward, done, info = env.step(int(action))\n",
    "            for i in range(steps):\n",
    "                rewards[i] = rewards[i] + math.pow(self.gamma, steps-i)*reward\n",
    "            rewards.append(reward)\n",
    "            if not done:\n",
    "                states.append(observation.copy())\n",
    "            observation = torch.tensor(observation, dtype=torch.float)\n",
    "            steps += 1\n",
    "\n",
    "        env.close()\n",
    "        if render:\n",
    "            show_video(\"./gym-results\")\n",
    "            print(f'Reward: {reward_episode}')\n",
    "        states = np.array(states).reshape(-1, self.env.observation_space.shape[0])\n",
    "        returns = np.array(rewards).reshape(-1,1)\n",
    "        return states, returns"
   ]
  },
  {
   "cell_type": "markdown",
   "metadata": {
    "colab_type": "text",
    "id": "IY1VIUHLNKn3"
   },
   "source": [
    "Define configuration"
   ]
  },
  {
   "cell_type": "code",
   "execution_count": 43,
   "metadata": {
    "colab": {
     "base_uri": "https://localhost:8080/",
     "height": 100
    },
    "colab_type": "code",
    "id": "Fvc-7jXDNNkG",
    "outputId": "bb62c4df-d78c-4d47-c0b9-6c8c78285c96"
   },
   "outputs": [
    {
     "name": "stdout",
     "output_type": "stream",
     "text": [
      "Current config_td is:\n",
      "{'env_id': 'CartPole-v1',\n",
      " 'gamma': 0.99,\n",
      " 'seed': 1,\n",
      " 'value_network': {'learning_rate': 0.001, 'reference': './CartPole_value.pt'}}\n"
     ]
    }
   ],
   "source": [
    "env_id = 'CartPole-v1'\n",
    "value_learning_rate = 0.001\n",
    "gamma = 0.99\n",
    "seed = 1\n",
    "\n",
    "config_td = {\n",
    "    'env_id': env_id,\n",
    "    'gamma': gamma,\n",
    "    'seed': seed,\n",
    "    'value_network': {'learning_rate': value_learning_rate, 'reference': './CartPole_value.pt'}\n",
    "}\n",
    "\n",
    "print(\"Current config_td is:\")\n",
    "pprint(config_td)\n"
   ]
  },
  {
   "cell_type": "markdown",
   "metadata": {
    "colab_type": "text",
    "id": "d2lRnaF3NPyy"
   },
   "source": [
    "Create policy"
   ]
  },
  {
   "cell_type": "code",
   "execution_count": 44,
   "metadata": {
    "colab": {
     "base_uri": "https://localhost:8080/",
     "height": 33
    },
    "colab_type": "code",
    "id": "NkbHK_lXNShg",
    "outputId": "69e57548-5285-47a0-abe3-a8edc516f7df"
   },
   "outputs": [
    {
     "name": "stdout",
     "output_type": "stream",
     "text": [
      "pi(state) =  [0]\n"
     ]
    }
   ],
   "source": [
    "env = gym.make(config_td['env_id'])\n",
    "policy = ActorNetwork(env.observation_space.shape[0], 16, env.action_space.n)\n",
    "policy.load_state_dict(torch.load('./mvarl_hands_on/data/CartPole_actor.pt'))\n",
    "state = torch.tensor(np.array(env.reset(), dtype=np.float32))\n",
    "print(\"pi(state) = \", policy.select_action(state))\n",
    "del env"
   ]
  },
  {
   "cell_type": "markdown",
   "metadata": {
    "colab_type": "text",
    "id": "Y51M4EgtNU7Z"
   },
   "source": [
    "Run agent"
   ]
  },
  {
   "cell_type": "code",
   "execution_count": 45,
   "metadata": {
    "colab": {
     "base_uri": "https://localhost:8080/",
     "height": 982
    },
    "colab_type": "code",
    "id": "4PFvnYLnNGvX",
    "outputId": "30e467fc-4409-40e8-8952-b40fff34e433"
   },
   "outputs": [
    {
     "name": "stdout",
     "output_type": "stream",
     "text": [
      "Epoch 0/1000: MSE: 7040.021234319181\n",
      "Epoch 25/1000: MSE: 6976.9082829252375\n",
      "Epoch 50/1000: MSE: 5123.136439037117\n",
      "Epoch 75/1000: MSE: 6696.827014350897\n",
      "Epoch 100/1000: MSE: 6482.381789371007\n",
      "Epoch 125/1000: MSE: 6188.210750537755\n",
      "Epoch 150/1000: MSE: 5808.791683143006\n",
      "Epoch 175/1000: MSE: 5536.138768376711\n",
      "Epoch 200/1000: MSE: 5003.541486715712\n",
      "Epoch 225/1000: MSE: 4751.396900648603\n",
      "Epoch 250/1000: MSE: 4304.437020282344\n",
      "Epoch 275/1000: MSE: 3847.128019474436\n",
      "Epoch 300/1000: MSE: 3490.943570948721\n",
      "Epoch 325/1000: MSE: 3063.212571010133\n",
      "Epoch 350/1000: MSE: 2481.450293029034\n",
      "Epoch 375/1000: MSE: 2214.4711452818224\n",
      "Epoch 400/1000: MSE: 1833.8671854315312\n",
      "Epoch 425/1000: MSE: 1601.320276016179\n",
      "Epoch 450/1000: MSE: 1283.4871538806065\n",
      "Epoch 475/1000: MSE: 1170.782687338217\n",
      "Epoch 500/1000: MSE: 917.310782226202\n",
      "Epoch 525/1000: MSE: 872.1491457369241\n",
      "Epoch 550/1000: MSE: 889.4032300702161\n",
      "Epoch 575/1000: MSE: 712.6457524694009\n",
      "Epoch 600/1000: MSE: 703.2296951687504\n",
      "Epoch 625/1000: MSE: 697.9228299353707\n",
      "Epoch 650/1000: MSE: 578.2894955272557\n",
      "Epoch 675/1000: MSE: 641.0504967388459\n",
      "Epoch 700/1000: MSE: 562.0426380660439\n",
      "Epoch 725/1000: MSE: 646.2802030962932\n",
      "Epoch 750/1000: MSE: 543.6236987515526\n",
      "Epoch 775/1000: MSE: 626.1520591217904\n",
      "Epoch 800/1000: MSE: 567.3496728361597\n",
      "Epoch 825/1000: MSE: 636.8391560630546\n",
      "Epoch 850/1000: MSE: 799.5866955043964\n",
      "Epoch 875/1000: MSE: 798.0736228180563\n",
      "Epoch 900/1000: MSE: 617.2970401569293\n",
      "Epoch 925/1000: MSE: 624.8762910676442\n",
      "Epoch 950/1000: MSE: 649.5883775946662\n",
      "Epoch 975/1000: MSE: 580.8058991093127\n",
      "Epoch 999/1000: MSE: 567.115878980132\n",
      "The trainnig was done over a total of 517 episodes\n"
     ]
    },
    {
     "data": {
      "image/png": "[encoded data removed]",
      "text/plain": [
       "<Figure size 432x288 with 1 Axes>"
      ]
     },
     "metadata": {
      "tags": []
     },
     "output_type": "display_data"
    }
   ],
   "source": [
    "import math\n",
    "agent = EvalAgent(config=config_td, policy=policy)\n",
    "agent.training_batch(epochs=1000, batch_size=256)"
   ]
  },
  {
   "cell_type": "markdown",
   "metadata": {
    "colab_type": "text",
    "id": "03as0wkuja2A"
   },
   "source": [
    "## Advantage Actor Critic (A2C)\n",
    "**Implementation of the A2C method**\n"
   ]
  },
  {
   "cell_type": "code",
   "execution_count": 0,
   "metadata": {
    "colab": {},
    "colab_type": "code",
    "id": "G4EmYpAsjhKh"
   },
   "outputs": [],
   "source": [
    "class A2CAgent:\n",
    "\n",
    "    def __init__(self, config):\n",
    "        self.config = config\n",
    "        self.env = gym.make(config['env_id'])\n",
    "        make_seed(config['seed'])\n",
    "        self.env.seed(config['seed'])\n",
    "        self.monitor_env = Monitor(self.env, \"./gym-results\", force=True, video_callable=lambda episode: True)\n",
    "        self.gamma = config['gamma']\n",
    "        \n",
    "        # Our two networks\n",
    "        self.value_network = ValueNetwork(self.env.observation_space.shape[0], 16, 1)\n",
    "        self.actor_network = ActorNetwork(self.env.observation_space.shape[0], 16, self.env.action_space.n)\n",
    "        \n",
    "        # Their optimizers\n",
    "        self.value_network_optimizer = optim.RMSprop(self.value_network.parameters(), lr=config['value_network']['learning_rate'])\n",
    "        self.actor_network_optimizer = optim.RMSprop(self.actor_network.parameters(), lr=config['actor_network']['learning_rate'])\n",
    "        \n",
    "    # Hint: use it during training_batch\n",
    "    def _returns_advantages(self, rewards, dones, values, next_value):\n",
    "        \"\"\"Returns the cumulative discounted rewards at each time step\n",
    "\n",
    "        Parameters\n",
    "        ----------\n",
    "        rewards : array\n",
    "            An array of shape (batch_size,) containing the rewards given by the env\n",
    "        dones : array\n",
    "            An array of shape (batch_size,) containing the done bool indicator given by the env\n",
    "        values : array\n",
    "            An array of shape (batch_size,) containing the values given by the value network\n",
    "        next_value : float\n",
    "            The value of the next state given by the value network\n",
    "        \n",
    "        Returns\n",
    "        -------\n",
    "        returns : array\n",
    "            The cumulative discounted rewards\n",
    "        advantages : array\n",
    "            The advantages\n",
    "        \"\"\"\n",
    "        # Returns\n",
    "        cum_discounted_rewards = [next_value]\n",
    "\n",
    "        for t in range(len(rewards)-1,-1,-1):\n",
    "          if not dones[t]:\n",
    "            cum_discounted_rewards+=[rewards[t]+cum_discounted_rewards[-1]*self.gamma]\n",
    "          else:\n",
    "            cum_discounted_rewards+=[rewards[t]]\n",
    "        cum_discounted_rewards=np.array(cum_discounted_rewards[1:])[::-1]\n",
    "        cum_discounted_rewards=cum_discounted_rewards.ravel()\n",
    "        # Advantages\n",
    "        advantages = cum_discounted_rewards - values\n",
    "        return cum_discounted_rewards,advantages\n",
    "\n",
    "    def training_batch(self, epochs, batch_size):\n",
    "        \"\"\"Perform a training by batch\n",
    "\n",
    "        Parameters\n",
    "        ----------\n",
    "        epochs : int\n",
    "            Number of epochs\n",
    "        batch_size : int\n",
    "            The size of a batch\n",
    "        \"\"\"\n",
    "        episode_count = 0\n",
    "        actions = np.empty((batch_size,), dtype=np.int)\n",
    "        dones = np.empty((batch_size,), dtype=np.bool)\n",
    "        rewards, values = np.empty((2, batch_size), dtype=np.float)\n",
    "        observations = np.empty((batch_size,) + self.env.observation_space.shape, dtype=np.float)\n",
    "        observation = self.env.reset()\n",
    "        rewards_test = []\n",
    "\n",
    "        for epoch in range(epochs):\n",
    "          \n",
    "          # Lets collect one batch\n",
    "          for i in range(batch_size):\n",
    "            #tensors and numpy array share same memory location\n",
    "            observations[i] = observation\n",
    "            state=torch.from_numpy(observation).float()\n",
    "            action=self.actor_network.select_action(state)\n",
    "            actions[i] = action.item()\n",
    "\n",
    "            #values for Actor Network \n",
    "            values[i]=self.value_network.forward(state)\n",
    "            new_state, reward, done, _ = self.env.step(int(action))\n",
    "            rewards[i]=reward\n",
    "            dones[i]=done\n",
    "            state = torch.from_numpy(new_state).float()\n",
    "            observation=new_state\n",
    "            if dones[i]:\n",
    "                observation = self.env.reset()\n",
    "          # If our epiosde didn't end on the last step we need to compute the value for the last state\n",
    "          if dones[-1]:\n",
    "              next_value = 0\n",
    "\n",
    "          else:\n",
    "              next_value = self.value_network(torch.tensor(new_state, dtype = torch.float)).item()\n",
    "\n",
    "            # If our epiosde didn't end on the last step we need to compute the value for the last state\n",
    "            \n",
    "          # Update episode_count\n",
    "          episode_count += sum(dones)\n",
    "\n",
    "          # Compute returns and advantages\n",
    "          \n",
    "          returns,advantages = self._returns_advantages(rewards, dones,values, next_value)\n",
    "          \n",
    "          # Learning step !\n",
    "          \n",
    "          self.optimize_model(observations, actions, returns,advantages)\n",
    "          \n",
    "\n",
    "          # Test it every 50 epochs\n",
    "          if epoch % 50 == 0 or epoch == epochs - 1:\n",
    "              rewards_test.append(np.array([self.evaluate() for _ in range(50)]))\n",
    "              print(f'Epoch {epoch}/{epochs}: Mean rewards: {round(rewards_test[-1].mean(), 2)}, Std: {round(rewards_test[-1].std(), 2)}')\n",
    "\n",
    "              # Early stopping\n",
    "              if rewards_test[-1].mean() > 490 and epoch != epochs -1:\n",
    "                  print('Early stopping !')\n",
    "                  break\n",
    "              observation = self.env.reset()\n",
    "                    \n",
    "        # Plotting\n",
    "        r = pd.DataFrame((itertools.chain(*(itertools.product([i], rewards_test[i]) for i in range(len(rewards_test))))), columns=['Epoch', 'Reward'])\n",
    "        sns.lineplot(x=\"Epoch\", y=\"Reward\", data=r, ci='sd');\n",
    "        \n",
    "        print(f'The trainnig was done over a total of {episode_count} episodes')\n",
    "\n",
    "    def optimize_model(self, observations, actions, returns, advantages):\n",
    "        actions = torch.tensor(actions, dtype = int)\n",
    "        returns = torch.tensor(returns[:, None], dtype=torch.float)\n",
    "        advantages = torch.tensor(advantages, dtype=torch.float)\n",
    "        observations = torch.tensor(observations, dtype=torch.float)\n",
    "        #log probability for Actor Gradient Decent\n",
    "        actions_proba=self.actor_network.forward(observations)\n",
    "        log_prob=torch.log(actions_proba)\n",
    "        log_prob=torch.diag(log_prob.T[actions])\n",
    "        #Here we pass the whole batch to the loss function with mean reduction\n",
    "        values=self.value_network(observations) \n",
    "        #Critic Network Loss\n",
    "        loss_critic=F.mse_loss(returns,values)\n",
    "        #Actor Network Loss \n",
    "        loss_actor=(-log_prob * advantages).mean()\n",
    "        # Discard previous gradients\n",
    "        self.value_network_optimizer.zero_grad() \n",
    "        self.actor_network_optimizer.zero_grad() \n",
    "        # Compute the gradient \n",
    "        loss_critic.backward()\n",
    "        loss_actor.backward()\n",
    "        # Do the gradient descent step\n",
    "        self.value_network_optimizer.step()\n",
    "        self.actor_network_optimizer.step()\n",
    "        \n",
    "\n",
    "    def evaluate(self, render=False):\n",
    "        env = self.monitor_env if render else self.env\n",
    "        observation = env.reset()\n",
    "        observation = torch.tensor(observation, dtype=torch.float)\n",
    "        reward_episode = 0\n",
    "        done = False\n",
    "\n",
    "        while not done:\n",
    "            policy = self.actor_network(observation)\n",
    "            action = torch.multinomial(policy, 1)\n",
    "            observation, reward, done, info = env.step(int(action))\n",
    "            observation = torch.tensor(observation, dtype=torch.float)\n",
    "            reward_episode += reward\n",
    "            \n",
    "        env.close()\n",
    "        if render:\n",
    "            show_video(\"./gym-results\")\n",
    "            print(f'Reward: {reward_episode}')\n",
    "        return reward_episode"
   ]
  },
  {
   "cell_type": "markdown",
   "metadata": {
    "colab_type": "text",
    "id": "8sEwrInsjkDH"
   },
   "source": [
    "Create configuration for A2C"
   ]
  },
  {
   "cell_type": "code",
   "execution_count": 47,
   "metadata": {
    "colab": {
     "base_uri": "https://localhost:8080/",
     "height": 134
    },
    "colab_type": "code",
    "id": "OwDDx78wjmG5",
    "outputId": "2eca1d12-7c4e-41a6-fcec-b2a09eeb42ec"
   },
   "outputs": [
    {
     "name": "stdout",
     "output_type": "stream",
     "text": [
      "Current config_a2c is:\n",
      "{'actor_network': {'learning_rate': 0.001},\n",
      " 'entropy': 1,\n",
      " 'env_id': 'CartPole-v1',\n",
      " 'gamma': 0.99,\n",
      " 'seed': 1,\n",
      " 'value_network': {'learning_rate': 0.001}}\n"
     ]
    }
   ],
   "source": [
    "env_id = 'CartPole-v1'\n",
    "value_learning_rate = 0.001\n",
    "actor_learning_rate = 0.001\n",
    "gamma = 0.99\n",
    "entropy = 1\n",
    "seed = 1\n",
    "\n",
    "config_a2c = {\n",
    "    'env_id': env_id,\n",
    "    'gamma': gamma,\n",
    "    'seed': seed,\n",
    "    'value_network': {'learning_rate': value_learning_rate},\n",
    "    'actor_network': {'learning_rate': actor_learning_rate},\n",
    "    'entropy': entropy\n",
    "}\n",
    "\n",
    "print(\"Current config_a2c is:\")\n",
    "pprint(config_a2c)"
   ]
  },
  {
   "cell_type": "markdown",
   "metadata": {
    "colab_type": "text",
    "id": "6xW7fe-8jvzY"
   },
   "source": [
    "Run the learning agent"
   ]
  },
  {
   "cell_type": "code",
   "execution_count": 48,
   "metadata": {
    "colab": {
     "base_uri": "https://localhost:8080/",
     "height": 647
    },
    "colab_type": "code",
    "id": "UrZRJ7-yjryp",
    "outputId": "e522c3e8-464d-4dc8-adea-c90b003b82ca"
   },
   "outputs": [
    {
     "name": "stdout",
     "output_type": "stream",
     "text": [
      "Epoch 0/1000: Mean rewards: 24.86, Std: 16.4\n",
      "Epoch 50/1000: Mean rewards: 38.02, Std: 27.48\n",
      "Epoch 100/1000: Mean rewards: 55.56, Std: 28.22\n",
      "Epoch 150/1000: Mean rewards: 78.32, Std: 48.86\n",
      "Epoch 200/1000: Mean rewards: 121.7, Std: 74.73\n",
      "Epoch 250/1000: Mean rewards: 218.62, Std: 100.44\n",
      "Epoch 300/1000: Mean rewards: 222.06, Std: 91.65\n",
      "Epoch 350/1000: Mean rewards: 223.08, Std: 89.25\n",
      "Epoch 400/1000: Mean rewards: 336.12, Std: 136.32\n",
      "Epoch 450/1000: Mean rewards: 350.88, Std: 128.04\n",
      "Epoch 500/1000: Mean rewards: 407.12, Std: 119.78\n",
      "Epoch 550/1000: Mean rewards: 411.02, Std: 109.8\n",
      "Epoch 600/1000: Mean rewards: 415.46, Std: 97.9\n",
      "Epoch 650/1000: Mean rewards: 426.66, Std: 111.29\n",
      "Epoch 700/1000: Mean rewards: 456.66, Std: 89.69\n",
      "Epoch 750/1000: Mean rewards: 475.4, Std: 73.47\n",
      "Epoch 800/1000: Mean rewards: 477.78, Std: 56.63\n",
      "Epoch 850/1000: Mean rewards: 462.88, Std: 73.34\n",
      "Epoch 900/1000: Mean rewards: 407.08, Std: 94.05\n",
      "Epoch 950/1000: Mean rewards: 444.98, Std: 79.77\n",
      "Epoch 999/1000: Mean rewards: 486.0, Std: 54.87\n",
      "The trainnig was done over a total of 1715 episodes\n"
     ]
    },
    {
     "data": {
      "image/png": "[encoded data removed]",
      "text/plain": [
       "<Figure size 432x288 with 1 Axes>"
      ]
     },
     "metadata": {
      "tags": []
     },
     "output_type": "display_data"
    }
   ],
   "source": [
    "agent = A2CAgent(config_a2c)\n",
    "rewards = agent.training_batch(1000, 256)"
   ]
  },
  {
   "cell_type": "markdown",
   "metadata": {
    "colab_type": "text",
    "id": "NzuNtPqTju64"
   },
   "source": [
    "Evaluate the agent over multiple episodes"
   ]
  },
  {
   "cell_type": "code",
   "execution_count": 49,
   "metadata": {
    "colab": {
     "base_uri": "https://localhost:8080/",
     "height": 33
    },
    "colab_type": "code",
    "id": "bw279M4Jj1y-",
    "outputId": "bbf4dd7d-38f2-4fd6-b254-e6cbc9e689e0"
   },
   "outputs": [
    {
     "data": {
      "text/plain": [
       "500.0"
      ]
     },
     "execution_count": 49,
     "metadata": {
      "tags": []
     },
     "output_type": "execute_result"
    }
   ],
   "source": [
    "agent.evaluate()"
   ]
  }
 ],
 "metadata": {
  "accelerator": "GPU",
  "colab": {
   "collapsed_sections": [],
   "name": "Copy of MVARL19_part2.ipynb",
   "provenance": []
  },
  "kernelspec": {
   "display_name": "Python 3",
   "language": "python",
   "name": "python3"
  },
  "language_info": {
   "codemirror_mode": {
    "name": "ipython",
    "version": 3
   },
   "file_extension": ".py",
   "mimetype": "text/x-python",
   "name": "python",
   "nbconvert_exporter": "python",
   "pygments_lexer": "ipython3",
   "version": "3.7.4"
  }
 },
 "nbformat": 4,
 "nbformat_minor": 1
}
