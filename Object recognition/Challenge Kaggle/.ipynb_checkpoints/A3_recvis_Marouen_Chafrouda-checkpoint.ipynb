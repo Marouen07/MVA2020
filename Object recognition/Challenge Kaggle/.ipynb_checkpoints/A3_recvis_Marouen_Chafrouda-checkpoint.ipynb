{
 "cells": [
  {
   "cell_type": "markdown",
   "metadata": {
    "colab_type": "text",
    "id": "2I-01BY2C4_K"
   },
   "source": [
    "##**Object recognition and computer vision 2019/2020**  \n",
    "\n",
    "Marouen Chafrouda \n",
    "\n",
    "Marouen.chafrouda@student.ecp.fr\n",
    "\n",
    "\n",
    "\n"
   ]
  },
  {
   "cell_type": "code",
   "execution_count": null,
   "metadata": {
    "colab": {},
    "colab_type": "code",
    "id": "ebzH0ThzC4_K"
   },
   "outputs": [],
   "source": [
    "from __future__ import print_function, division\n",
    "import torch\n",
    "import torch.nn as nn\n",
    "import torch.optim as optim\n",
    "from torch.optim import lr_scheduler\n",
    "import numpy as np\n",
    "import torchvision\n",
    "from torchvision import datasets, models, transforms\n",
    "import matplotlib.pyplot as plt\n",
    "import time\n",
    "import os\n",
    "import copy\n",
    "import PIL"
   ]
  },
  {
   "cell_type": "markdown",
   "metadata": {
    "colab_type": "text",
    "id": "irIf-COVFE9z"
   },
   "source": [
    "We start off by recovering the Dataset of the Challenge "
   ]
  },
  {
   "cell_type": "code",
   "execution_count": null,
   "metadata": {
    "_cell_guid": "b1076dfc-b9ad-4769-8c92-a6c4dae69d19",
    "_uuid": "8f2839f25d086af736a60e9eeb907d3b93b6e0e5",
    "colab": {
     "base_uri": "https://localhost:8080/",
     "height": 1000
    },
    "colab_type": "code",
    "id": "5GYRBjKxC4_M",
    "outputId": "e335000d-eb62-43a6-dc2e-980d319a8dd7"
   },
   "outputs": [],
   "source": [
    "!wget https://www.di.ens.fr/willow/teaching/recvis18/assignment3/bird_dataset.zip \n",
    "!unzip bird_dataset.zip  "
   ]
  },
  {
   "cell_type": "markdown",
   "metadata": {
    "colab_type": "text",
    "id": "PFOh7GRYFKBW"
   },
   "source": [
    "###Bounding Boxes Extraction with Faster RCNN\n",
    "Now we'll extract the bounding Boxes from the images of dataset and save them another folder while randomly splitting them to training/validation, we'll use our own split here and not the provided split as that one has unbalanced data among classes in Validation set "
   ]
  },
  {
   "cell_type": "code",
   "execution_count": 0,
   "metadata": {
    "colab": {},
    "colab_type": "code",
    "id": "W3uYsE5EC4_O"
   },
   "outputs": [],
   "source": [
    "class BoundingBoxes(object):\n",
    "    \"\"\"return a box with just the photo of the birds ie the content of the bounding box \"\"\"\n",
    "    def __init__(self,model,device=\"cuda:0\"):\n",
    "        self.model=model\n",
    "        self.device=device\n",
    "    def __call__(self, img):\n",
    "        #bounding boxes\n",
    "        image=img.to(self.device)\n",
    "        prediction=self.model([image])[0]\n",
    "        image=image.cpu()\n",
    "        try:\n",
    "            first_bird=np.where(prediction['labels'].cpu().numpy()==16)[0][0]#16 is the class for birds \n",
    "            pred=prediction['boxes'][first_bird]\n",
    "            pred_int=pred.int()\n",
    "            img=img[:,pred_int[1]:pred_int[3],pred_int[0]:pred_int[2]]\n",
    "            return img \n",
    "        except :\n",
    "            print('no birds')\n",
    "            #if no birds are found just return the whole image\n",
    "            return img "
   ]
  },
  {
   "cell_type": "code",
   "execution_count": 4,
   "metadata": {
    "colab": {
     "base_uri": "https://localhost:8080/",
     "height": 1000
    },
    "colab_type": "code",
    "id": "gKH3q8LqC4_T",
    "outputId": "ec7f1bf8-8d02-4d42-d0b7-246236d4c395"
   },
   "outputs": [
    {
     "name": "stderr",
     "output_type": "stream",
     "text": [
      "Downloading: \"https://download.pytorch.org/models/fasterrcnn_resnet50_fpn_coco-258fb6c6.pth\" to /root/.cache/torch/checkpoints/fasterrcnn_resnet50_fpn_coco-258fb6c6.pth\n",
      "100%|██████████| 160M/160M [00:02<00:00, 56.8MB/s]\n"
     ]
    },
    {
     "data": {
      "text/plain": [
       "FasterRCNN(\n",
       "  (transform): GeneralizedRCNNTransform()\n",
       "  (backbone): BackboneWithFPN(\n",
       "    (body): IntermediateLayerGetter(\n",
       "      (conv1): Conv2d(3, 64, kernel_size=(7, 7), stride=(2, 2), padding=(3, 3), bias=False)\n",
       "      (bn1): FrozenBatchNorm2d(original_name=FrozenBatchNorm2d)\n",
       "      (relu): ReLU(inplace=True)\n",
       "      (maxpool): MaxPool2d(kernel_size=3, stride=2, padding=1, dilation=1, ceil_mode=False)\n",
       "      (layer1): Sequential(\n",
       "        (0): Bottleneck(\n",
       "          (conv1): Conv2d(64, 64, kernel_size=(1, 1), stride=(1, 1), bias=False)\n",
       "          (bn1): FrozenBatchNorm2d(original_name=FrozenBatchNorm2d)\n",
       "          (conv2): Conv2d(64, 64, kernel_size=(3, 3), stride=(1, 1), padding=(1, 1), bias=False)\n",
       "          (bn2): FrozenBatchNorm2d(original_name=FrozenBatchNorm2d)\n",
       "          (conv3): Conv2d(64, 256, kernel_size=(1, 1), stride=(1, 1), bias=False)\n",
       "          (bn3): FrozenBatchNorm2d(original_name=FrozenBatchNorm2d)\n",
       "          (relu): ReLU(inplace=True)\n",
       "          (downsample): Sequential(\n",
       "            (0): Conv2d(64, 256, kernel_size=(1, 1), stride=(1, 1), bias=False)\n",
       "            (1): FrozenBatchNorm2d(original_name=FrozenBatchNorm2d)\n",
       "          )\n",
       "        )\n",
       "        (1): Bottleneck(\n",
       "          (conv1): Conv2d(256, 64, kernel_size=(1, 1), stride=(1, 1), bias=False)\n",
       "          (bn1): FrozenBatchNorm2d(original_name=FrozenBatchNorm2d)\n",
       "          (conv2): Conv2d(64, 64, kernel_size=(3, 3), stride=(1, 1), padding=(1, 1), bias=False)\n",
       "          (bn2): FrozenBatchNorm2d(original_name=FrozenBatchNorm2d)\n",
       "          (conv3): Conv2d(64, 256, kernel_size=(1, 1), stride=(1, 1), bias=False)\n",
       "          (bn3): FrozenBatchNorm2d(original_name=FrozenBatchNorm2d)\n",
       "          (relu): ReLU(inplace=True)\n",
       "        )\n",
       "        (2): Bottleneck(\n",
       "          (conv1): Conv2d(256, 64, kernel_size=(1, 1), stride=(1, 1), bias=False)\n",
       "          (bn1): FrozenBatchNorm2d(original_name=FrozenBatchNorm2d)\n",
       "          (conv2): Conv2d(64, 64, kernel_size=(3, 3), stride=(1, 1), padding=(1, 1), bias=False)\n",
       "          (bn2): FrozenBatchNorm2d(original_name=FrozenBatchNorm2d)\n",
       "          (conv3): Conv2d(64, 256, kernel_size=(1, 1), stride=(1, 1), bias=False)\n",
       "          (bn3): FrozenBatchNorm2d(original_name=FrozenBatchNorm2d)\n",
       "          (relu): ReLU(inplace=True)\n",
       "        )\n",
       "      )\n",
       "      (layer2): Sequential(\n",
       "        (0): Bottleneck(\n",
       "          (conv1): Conv2d(256, 128, kernel_size=(1, 1), stride=(1, 1), bias=False)\n",
       "          (bn1): FrozenBatchNorm2d(original_name=FrozenBatchNorm2d)\n",
       "          (conv2): Conv2d(128, 128, kernel_size=(3, 3), stride=(2, 2), padding=(1, 1), bias=False)\n",
       "          (bn2): FrozenBatchNorm2d(original_name=FrozenBatchNorm2d)\n",
       "          (conv3): Conv2d(128, 512, kernel_size=(1, 1), stride=(1, 1), bias=False)\n",
       "          (bn3): FrozenBatchNorm2d(original_name=FrozenBatchNorm2d)\n",
       "          (relu): ReLU(inplace=True)\n",
       "          (downsample): Sequential(\n",
       "            (0): Conv2d(256, 512, kernel_size=(1, 1), stride=(2, 2), bias=False)\n",
       "            (1): FrozenBatchNorm2d(original_name=FrozenBatchNorm2d)\n",
       "          )\n",
       "        )\n",
       "        (1): Bottleneck(\n",
       "          (conv1): Conv2d(512, 128, kernel_size=(1, 1), stride=(1, 1), bias=False)\n",
       "          (bn1): FrozenBatchNorm2d(original_name=FrozenBatchNorm2d)\n",
       "          (conv2): Conv2d(128, 128, kernel_size=(3, 3), stride=(1, 1), padding=(1, 1), bias=False)\n",
       "          (bn2): FrozenBatchNorm2d(original_name=FrozenBatchNorm2d)\n",
       "          (conv3): Conv2d(128, 512, kernel_size=(1, 1), stride=(1, 1), bias=False)\n",
       "          (bn3): FrozenBatchNorm2d(original_name=FrozenBatchNorm2d)\n",
       "          (relu): ReLU(inplace=True)\n",
       "        )\n",
       "        (2): Bottleneck(\n",
       "          (conv1): Conv2d(512, 128, kernel_size=(1, 1), stride=(1, 1), bias=False)\n",
       "          (bn1): FrozenBatchNorm2d(original_name=FrozenBatchNorm2d)\n",
       "          (conv2): Conv2d(128, 128, kernel_size=(3, 3), stride=(1, 1), padding=(1, 1), bias=False)\n",
       "          (bn2): FrozenBatchNorm2d(original_name=FrozenBatchNorm2d)\n",
       "          (conv3): Conv2d(128, 512, kernel_size=(1, 1), stride=(1, 1), bias=False)\n",
       "          (bn3): FrozenBatchNorm2d(original_name=FrozenBatchNorm2d)\n",
       "          (relu): ReLU(inplace=True)\n",
       "        )\n",
       "        (3): Bottleneck(\n",
       "          (conv1): Conv2d(512, 128, kernel_size=(1, 1), stride=(1, 1), bias=False)\n",
       "          (bn1): FrozenBatchNorm2d(original_name=FrozenBatchNorm2d)\n",
       "          (conv2): Conv2d(128, 128, kernel_size=(3, 3), stride=(1, 1), padding=(1, 1), bias=False)\n",
       "          (bn2): FrozenBatchNorm2d(original_name=FrozenBatchNorm2d)\n",
       "          (conv3): Conv2d(128, 512, kernel_size=(1, 1), stride=(1, 1), bias=False)\n",
       "          (bn3): FrozenBatchNorm2d(original_name=FrozenBatchNorm2d)\n",
       "          (relu): ReLU(inplace=True)\n",
       "        )\n",
       "      )\n",
       "      (layer3): Sequential(\n",
       "        (0): Bottleneck(\n",
       "          (conv1): Conv2d(512, 256, kernel_size=(1, 1), stride=(1, 1), bias=False)\n",
       "          (bn1): FrozenBatchNorm2d(original_name=FrozenBatchNorm2d)\n",
       "          (conv2): Conv2d(256, 256, kernel_size=(3, 3), stride=(2, 2), padding=(1, 1), bias=False)\n",
       "          (bn2): FrozenBatchNorm2d(original_name=FrozenBatchNorm2d)\n",
       "          (conv3): Conv2d(256, 1024, kernel_size=(1, 1), stride=(1, 1), bias=False)\n",
       "          (bn3): FrozenBatchNorm2d(original_name=FrozenBatchNorm2d)\n",
       "          (relu): ReLU(inplace=True)\n",
       "          (downsample): Sequential(\n",
       "            (0): Conv2d(512, 1024, kernel_size=(1, 1), stride=(2, 2), bias=False)\n",
       "            (1): FrozenBatchNorm2d(original_name=FrozenBatchNorm2d)\n",
       "          )\n",
       "        )\n",
       "        (1): Bottleneck(\n",
       "          (conv1): Conv2d(1024, 256, kernel_size=(1, 1), stride=(1, 1), bias=False)\n",
       "          (bn1): FrozenBatchNorm2d(original_name=FrozenBatchNorm2d)\n",
       "          (conv2): Conv2d(256, 256, kernel_size=(3, 3), stride=(1, 1), padding=(1, 1), bias=False)\n",
       "          (bn2): FrozenBatchNorm2d(original_name=FrozenBatchNorm2d)\n",
       "          (conv3): Conv2d(256, 1024, kernel_size=(1, 1), stride=(1, 1), bias=False)\n",
       "          (bn3): FrozenBatchNorm2d(original_name=FrozenBatchNorm2d)\n",
       "          (relu): ReLU(inplace=True)\n",
       "        )\n",
       "        (2): Bottleneck(\n",
       "          (conv1): Conv2d(1024, 256, kernel_size=(1, 1), stride=(1, 1), bias=False)\n",
       "          (bn1): FrozenBatchNorm2d(original_name=FrozenBatchNorm2d)\n",
       "          (conv2): Conv2d(256, 256, kernel_size=(3, 3), stride=(1, 1), padding=(1, 1), bias=False)\n",
       "          (bn2): FrozenBatchNorm2d(original_name=FrozenBatchNorm2d)\n",
       "          (conv3): Conv2d(256, 1024, kernel_size=(1, 1), stride=(1, 1), bias=False)\n",
       "          (bn3): FrozenBatchNorm2d(original_name=FrozenBatchNorm2d)\n",
       "          (relu): ReLU(inplace=True)\n",
       "        )\n",
       "        (3): Bottleneck(\n",
       "          (conv1): Conv2d(1024, 256, kernel_size=(1, 1), stride=(1, 1), bias=False)\n",
       "          (bn1): FrozenBatchNorm2d(original_name=FrozenBatchNorm2d)\n",
       "          (conv2): Conv2d(256, 256, kernel_size=(3, 3), stride=(1, 1), padding=(1, 1), bias=False)\n",
       "          (bn2): FrozenBatchNorm2d(original_name=FrozenBatchNorm2d)\n",
       "          (conv3): Conv2d(256, 1024, kernel_size=(1, 1), stride=(1, 1), bias=False)\n",
       "          (bn3): FrozenBatchNorm2d(original_name=FrozenBatchNorm2d)\n",
       "          (relu): ReLU(inplace=True)\n",
       "        )\n",
       "        (4): Bottleneck(\n",
       "          (conv1): Conv2d(1024, 256, kernel_size=(1, 1), stride=(1, 1), bias=False)\n",
       "          (bn1): FrozenBatchNorm2d(original_name=FrozenBatchNorm2d)\n",
       "          (conv2): Conv2d(256, 256, kernel_size=(3, 3), stride=(1, 1), padding=(1, 1), bias=False)\n",
       "          (bn2): FrozenBatchNorm2d(original_name=FrozenBatchNorm2d)\n",
       "          (conv3): Conv2d(256, 1024, kernel_size=(1, 1), stride=(1, 1), bias=False)\n",
       "          (bn3): FrozenBatchNorm2d(original_name=FrozenBatchNorm2d)\n",
       "          (relu): ReLU(inplace=True)\n",
       "        )\n",
       "        (5): Bottleneck(\n",
       "          (conv1): Conv2d(1024, 256, kernel_size=(1, 1), stride=(1, 1), bias=False)\n",
       "          (bn1): FrozenBatchNorm2d(original_name=FrozenBatchNorm2d)\n",
       "          (conv2): Conv2d(256, 256, kernel_size=(3, 3), stride=(1, 1), padding=(1, 1), bias=False)\n",
       "          (bn2): FrozenBatchNorm2d(original_name=FrozenBatchNorm2d)\n",
       "          (conv3): Conv2d(256, 1024, kernel_size=(1, 1), stride=(1, 1), bias=False)\n",
       "          (bn3): FrozenBatchNorm2d(original_name=FrozenBatchNorm2d)\n",
       "          (relu): ReLU(inplace=True)\n",
       "        )\n",
       "      )\n",
       "      (layer4): Sequential(\n",
       "        (0): Bottleneck(\n",
       "          (conv1): Conv2d(1024, 512, kernel_size=(1, 1), stride=(1, 1), bias=False)\n",
       "          (bn1): FrozenBatchNorm2d(original_name=FrozenBatchNorm2d)\n",
       "          (conv2): Conv2d(512, 512, kernel_size=(3, 3), stride=(2, 2), padding=(1, 1), bias=False)\n",
       "          (bn2): FrozenBatchNorm2d(original_name=FrozenBatchNorm2d)\n",
       "          (conv3): Conv2d(512, 2048, kernel_size=(1, 1), stride=(1, 1), bias=False)\n",
       "          (bn3): FrozenBatchNorm2d(original_name=FrozenBatchNorm2d)\n",
       "          (relu): ReLU(inplace=True)\n",
       "          (downsample): Sequential(\n",
       "            (0): Conv2d(1024, 2048, kernel_size=(1, 1), stride=(2, 2), bias=False)\n",
       "            (1): FrozenBatchNorm2d(original_name=FrozenBatchNorm2d)\n",
       "          )\n",
       "        )\n",
       "        (1): Bottleneck(\n",
       "          (conv1): Conv2d(2048, 512, kernel_size=(1, 1), stride=(1, 1), bias=False)\n",
       "          (bn1): FrozenBatchNorm2d(original_name=FrozenBatchNorm2d)\n",
       "          (conv2): Conv2d(512, 512, kernel_size=(3, 3), stride=(1, 1), padding=(1, 1), bias=False)\n",
       "          (bn2): FrozenBatchNorm2d(original_name=FrozenBatchNorm2d)\n",
       "          (conv3): Conv2d(512, 2048, kernel_size=(1, 1), stride=(1, 1), bias=False)\n",
       "          (bn3): FrozenBatchNorm2d(original_name=FrozenBatchNorm2d)\n",
       "          (relu): ReLU(inplace=True)\n",
       "        )\n",
       "        (2): Bottleneck(\n",
       "          (conv1): Conv2d(2048, 512, kernel_size=(1, 1), stride=(1, 1), bias=False)\n",
       "          (bn1): FrozenBatchNorm2d(original_name=FrozenBatchNorm2d)\n",
       "          (conv2): Conv2d(512, 512, kernel_size=(3, 3), stride=(1, 1), padding=(1, 1), bias=False)\n",
       "          (bn2): FrozenBatchNorm2d(original_name=FrozenBatchNorm2d)\n",
       "          (conv3): Conv2d(512, 2048, kernel_size=(1, 1), stride=(1, 1), bias=False)\n",
       "          (bn3): FrozenBatchNorm2d(original_name=FrozenBatchNorm2d)\n",
       "          (relu): ReLU(inplace=True)\n",
       "        )\n",
       "      )\n",
       "    )\n",
       "    (fpn): FeaturePyramidNetwork(\n",
       "      (inner_blocks): ModuleList(\n",
       "        (0): Conv2d(256, 256, kernel_size=(1, 1), stride=(1, 1))\n",
       "        (1): Conv2d(512, 256, kernel_size=(1, 1), stride=(1, 1))\n",
       "        (2): Conv2d(1024, 256, kernel_size=(1, 1), stride=(1, 1))\n",
       "        (3): Conv2d(2048, 256, kernel_size=(1, 1), stride=(1, 1))\n",
       "      )\n",
       "      (layer_blocks): ModuleList(\n",
       "        (0): Conv2d(256, 256, kernel_size=(3, 3), stride=(1, 1), padding=(1, 1))\n",
       "        (1): Conv2d(256, 256, kernel_size=(3, 3), stride=(1, 1), padding=(1, 1))\n",
       "        (2): Conv2d(256, 256, kernel_size=(3, 3), stride=(1, 1), padding=(1, 1))\n",
       "        (3): Conv2d(256, 256, kernel_size=(3, 3), stride=(1, 1), padding=(1, 1))\n",
       "      )\n",
       "      (extra_blocks): LastLevelMaxPool()\n",
       "    )\n",
       "  )\n",
       "  (rpn): RegionProposalNetwork(\n",
       "    (anchor_generator): AnchorGenerator()\n",
       "    (head): RPNHead(\n",
       "      (conv): Conv2d(256, 256, kernel_size=(3, 3), stride=(1, 1), padding=(1, 1))\n",
       "      (cls_logits): Conv2d(256, 3, kernel_size=(1, 1), stride=(1, 1))\n",
       "      (bbox_pred): Conv2d(256, 12, kernel_size=(1, 1), stride=(1, 1))\n",
       "    )\n",
       "  )\n",
       "  (roi_heads): RoIHeads(\n",
       "    (box_roi_pool): MultiScaleRoIAlign()\n",
       "    (box_head): TwoMLPHead(\n",
       "      (fc6): Linear(in_features=12544, out_features=1024, bias=True)\n",
       "      (fc7): Linear(in_features=1024, out_features=1024, bias=True)\n",
       "    )\n",
       "    (box_predictor): FastRCNNPredictor(\n",
       "      (cls_score): Linear(in_features=1024, out_features=91, bias=True)\n",
       "      (bbox_pred): Linear(in_features=1024, out_features=364, bias=True)\n",
       "    )\n",
       "  )\n",
       ")"
      ]
     },
     "execution_count": 4,
     "metadata": {
      "tags": []
     },
     "output_type": "execute_result"
    }
   ],
   "source": [
    "\"\"\"Model for Bounding Box extraction : Faster RCNN\"\"\"\n",
    "model = torchvision.models.detection.fasterrcnn_resnet50_fpn(pretrained=True)\n",
    "model.eval()"
   ]
  },
  {
   "cell_type": "code",
   "execution_count": 0,
   "metadata": {
    "colab": {},
    "colab_type": "code",
    "id": "nNVSlaCGC4_V"
   },
   "outputs": [],
   "source": [
    "# Loading all  Images and Creating their Bouding Boxes\n",
    "device = torch.device(\"cuda:0\" if torch.cuda.is_available() else \"cpu\")\n",
    "model=model.to(device)\n",
    "data_transforms = {\n",
    "    'train': transforms.Compose([\n",
    "    transforms.ToTensor(),\n",
    "    BoundingBoxes(model,device),\n",
    "    transforms.ToPILImage()\n",
    "]),\n",
    "    'val': transforms.Compose([\n",
    "    transforms.ToTensor(),\n",
    "    BoundingBoxes(model,device),\n",
    "    transforms.ToPILImage()\n",
    "]),\n",
    "}\n",
    "data='bird_dataset'\n",
    "data_dir = {'train':data + '/train_images','val':data + '/val_images'}\n",
    "image_datasets = {x: datasets.ImageFolder(data_dir[x],\n",
    "                                          data_transforms[x])\n",
    "                  for x in ['train', 'val']}"
   ]
  },
  {
   "cell_type": "code",
   "execution_count": 0,
   "metadata": {
    "colab": {},
    "colab_type": "code",
    "id": "tvMaaLxtC4_X"
   },
   "outputs": [],
   "source": [
    "#Splitting between Training and validation with sklearn's train_test_split\n",
    "from sklearn.model_selection import train_test_split\n",
    "tr_len=len(image_datasets['train'])\n",
    "val_len=len(image_datasets['val'])\n",
    "num =tr_len +val_len\n",
    "indices = list(range(num))\n",
    "labels=image_datasets['train'].targets+image_datasets['val'].targets\n",
    "train_idx,valid_idx,_,_ = train_test_split(indices,labels,test_size=0.2,stratify=labels)"
   ]
  },
  {
   "cell_type": "code",
   "execution_count": 0,
   "metadata": {
    "colab": {},
    "colab_type": "code",
    "id": "GL4BEBFvC4_Y"
   },
   "outputs": [],
   "source": [
    "#Saving Bounded Training Images\n",
    "for i in train_idx :\n",
    "    if i < tr_len:\n",
    "        image,label=image_datasets['train'].__getitem__(i)\n",
    "    else:\n",
    "        image,label=image_datasets['val'].__getitem__(i-tr_len)\n",
    "#Folders Here Would need to be changed Depending on if we work locally or on colab/Kaggle Kernels        \n",
    "    filename = str(label)+'/'+str(i)+'.jpg'\n",
    "    os.makedirs('/content/bird/Train/'+str(label),exist_ok=True)\n",
    "    image.save('/content/bird/Train/'+filename)"
   ]
  },
  {
   "cell_type": "code",
   "execution_count": 0,
   "metadata": {
    "colab": {},
    "colab_type": "code",
    "id": "-Ra99N0EC4_a"
   },
   "outputs": [],
   "source": [
    "#Saving Bounded Validation Images\n",
    "for i in valid_idx :\n",
    "    if i < tr_len:\n",
    "        image,label=image_datasets['train'].__getitem__(i)\n",
    "    else:\n",
    "        image,label=image_datasets['val'].__getitem__(i-tr_len)\n",
    "#Folders Here Would need to be changed Depending on if we work locally or on colab/Kaggle Kernels        \n",
    "    filename = str(label)+'/'+str(i)+'.jpg'\n",
    "    os.makedirs('/content/bird/Validation/'+str(label),exist_ok=True)\n",
    "    image.save('/content/bird/Validation/'+filename)"
   ]
  },
  {
   "cell_type": "code",
   "execution_count": 0,
   "metadata": {
    "colab": {},
    "colab_type": "code",
    "id": "YMIBaiBUC4_b"
   },
   "outputs": [],
   "source": [
    "#Liberating some GPU memory Here\n",
    "model=model.cpu()\n",
    "del model\n",
    "torch.cuda.empty_cache()"
   ]
  },
  {
   "cell_type": "markdown",
   "metadata": {
    "colab_type": "text",
    "id": "YMNcdmwzG51M"
   },
   "source": [
    "### Classification with Transfer Learning : Resnet-101\n",
    "We'll use the feature extraction part of the pretrained Resnet model available in pytorch's Torchvision module, the NN is trained on Imagenet  dataset"
   ]
  },
  {
   "cell_type": "code",
   "execution_count": 0,
   "metadata": {
    "colab": {},
    "colab_type": "code",
    "id": "X8tbwaz9H7Pb"
   },
   "outputs": [],
   "source": [
    "model_conv = torchvision.models.resnet101(pretrained=True)\n",
    "for param in model_conv.parameters():\n",
    "    param.requires_grad = False #we freeze the weights of the part responsible for Feature extraction "
   ]
  },
  {
   "cell_type": "code",
   "execution_count": 0,
   "metadata": {
    "colab": {},
    "colab_type": "code",
    "id": "bBs5xxYMC4_Q"
   },
   "outputs": [],
   "source": [
    "#torch.multiprocessing.set_start_method('spawn',force=True)\n",
    "device = torch.device(\"cuda:0\" if torch.cuda.is_available() else \"cpu\")\n",
    "# Parameters of newly constructed modules have requires_grad=True by default\n",
    "num_ftrs = model_conv.fc.in_features\n",
    "nclasses=20\n",
    "\n",
    "model_conv.fc= nn.Sequential(nn.Linear(in_features=num_ftrs, out_features=num_ftrs),\n",
    "                              nn.ReLU(inplace=True),\n",
    "                              nn.Dropout(.5),\n",
    "                              nn.Linear(in_features=num_ftrs, out_features=num_ftrs),\n",
    "                              nn.ReLU(inplace=True),\n",
    "                              nn.Dropout(.5),\n",
    "                              nn.Linear(in_features=num_ftrs, out_features=nclasses))#nn.Linear(in_features=num_ftrs, out_features=nclasses)\n",
    "\"\"\"\n",
    "model_conv.classifier[6]= nn.Sequential(nn.Linear(in_features=num_ftrs, out_features=num_ftrs),\n",
    "                              nn.ReLU(inplace=True),\n",
    "                              nn.Dropout(.5),\n",
    "                              nn.Linear(in_features=num_ftrs, out_features=num_ftrs),\n",
    "                              nn.ReLU(inplace=True),\n",
    "                              nn.Dropout(.5),\n",
    "                              nn.Linear(in_features=num_ftrs, out_features=nclasses))#nn.Linear(in_features=num_ftrs, out_features=nclasses)\n",
    "\"\"\"\n",
    "\n",
    "model_conv = model_conv.to(device)\n",
    "\n",
    "criterion = nn.CrossEntropyLoss()\n",
    "\n",
    "# Observe that only parameters of final layer are being optimized as\n",
    "# opposed to before.\n",
    "optimizer_conv = optim.Adam(model_conv.fc.parameters(), lr=0.001, weight_decay=1e-4)\n",
    "\n",
    "# Decay LR by a factor of 0.1 every 7 epochs\n",
    "exp_lr_scheduler = lr_scheduler.StepLR(optimizer_conv, step_size=7, gamma=0.1)"
   ]
  },
  {
   "cell_type": "code",
   "execution_count": 0,
   "metadata": {
    "colab": {},
    "colab_type": "code",
    "id": "lLw-3qZJEy3E"
   },
   "outputs": [],
   "source": [
    "def train_model(model, criterion, optimizer, scheduler, dataloaders,num_epochs=25):\n",
    "    since = time.time()\n",
    "    \n",
    "    best_model_wts = copy.deepcopy(model.state_dict())\n",
    "    best_acc = 0.0\n",
    "    best_loss=10\n",
    "    losses={'train':[],'val':[]}\n",
    "    for epoch in range(num_epochs):\n",
    "        print('Epoch {}/{}'.format(epoch, num_epochs - 1))\n",
    "        print('-' * 10)\n",
    "\n",
    "        # Each epoch has a training and validation phase\n",
    "        for phase in ['train', 'val']:\n",
    "            if phase == 'train':\n",
    "                model.train()  # Set model to training mode\n",
    "            else:\n",
    "                model.eval()   # Set model to evaluate mode\n",
    "\n",
    "            running_loss = 0.0\n",
    "            running_corrects = 0\n",
    "\n",
    "            # Iterate over data.\n",
    "            for inputs, labels in dataloaders[phase]:\n",
    "                inputs = inputs.to(device)\n",
    "                labels = labels.to(device)\n",
    "\n",
    "                # zero the parameter gradients\n",
    "                optimizer.zero_grad()\n",
    "\n",
    "                # forward\n",
    "                # track history if only in train\n",
    "                with torch.set_grad_enabled(phase == 'train'):\n",
    "                    outputs = model(inputs)\n",
    "                    _, preds = torch.max(outputs, 1)\n",
    "                    loss = criterion(outputs, labels)\n",
    "                    # backward + optimize only if in training phase\n",
    "                    if phase == 'train':\n",
    "                        loss.backward()\n",
    "                        optimizer.step()\n",
    "\n",
    "                # statistics\n",
    "                running_loss += loss.item() * inputs.size(0)\n",
    "                running_corrects += torch.sum(preds == labels.data)\n",
    "                \n",
    "            if phase == 'train':\n",
    "                scheduler.step()\n",
    "\n",
    "            epoch_loss = running_loss / dataset_sizes[phase]\n",
    "            epoch_acc = running_corrects.double() *100 / dataset_sizes[phase]\n",
    "\n",
    "            print('{} Loss: {:.4f} Acc: {:.4f}'.format(\n",
    "                phase, epoch_loss, epoch_acc))\n",
    "            losses[phase]+=[epoch_loss]\n",
    "            # deep copy the model\n",
    "            if phase == 'val' and epoch_acc >= best_acc:\n",
    "                best_acc = epoch_acc\n",
    "                best_model_wts = copy.deepcopy(model.state_dict())\n",
    "\n",
    "        print()\n",
    "\n",
    "    time_elapsed = time.time() - since\n",
    "    print('Training complete in {:.0f}m {:.0f}s'.format(\n",
    "        time_elapsed // 60, time_elapsed % 60))\n",
    "    print('Best val Acc: {:4f}'.format(best_acc))\n",
    "\n",
    "    # load best model weights\n",
    "    model.load_state_dict(best_model_wts)\n",
    "    return model,losses"
   ]
  },
  {
   "cell_type": "markdown",
   "metadata": {
    "colab_type": "text",
    "id": "UAp8Skz_Hazs"
   },
   "source": [
    "###Data Augmentation\n",
    "Now before Starting the training of our NN we'll do some data augmentation, for doing this we'll use Imgaug, a very Handy library that provides a wide range of possible image augmentation techniques"
   ]
  },
  {
   "cell_type": "code",
   "execution_count": 13,
   "metadata": {
    "colab": {
     "base_uri": "https://localhost:8080/",
     "height": 621
    },
    "colab_type": "code",
    "id": "ZExOzTKuC4_d",
    "outputId": "b6431eac-1980-4ddc-92d7-bf2321cdbb0a"
   },
   "outputs": [
    {
     "name": "stdout",
     "output_type": "stream",
     "text": [
      "Collecting git+https://github.com/aleju/imgaug\n",
      "  Cloning https://github.com/aleju/imgaug to /tmp/pip-req-build-mjx40951\n",
      "  Running command git clone -q https://github.com/aleju/imgaug /tmp/pip-req-build-mjx40951\n",
      "Requirement already satisfied: six in /usr/local/lib/python3.6/dist-packages (from imgaug==0.3.0) (1.12.0)\n",
      "Requirement already satisfied: numpy>=1.15 in /usr/local/lib/python3.6/dist-packages (from imgaug==0.3.0) (1.17.4)\n",
      "Requirement already satisfied: scipy in /usr/local/lib/python3.6/dist-packages (from imgaug==0.3.0) (1.3.2)\n",
      "Requirement already satisfied: Pillow in /usr/local/lib/python3.6/dist-packages (from imgaug==0.3.0) (4.3.0)\n",
      "Requirement already satisfied: matplotlib in /usr/local/lib/python3.6/dist-packages (from imgaug==0.3.0) (3.1.1)\n",
      "Requirement already satisfied: scikit-image>=0.14.2 in /usr/local/lib/python3.6/dist-packages (from imgaug==0.3.0) (0.15.0)\n",
      "Collecting opencv-python-headless\n",
      "\u001b[?25l  Downloading https://files.pythonhosted.org/packages/5d/96/b2824df85d8c5f148125e4fee073a62fde17639502fe67042b212ebfe488/opencv_python_headless-4.1.2.30-cp36-cp36m-manylinux1_x86_64.whl (21.8MB)\n",
      "\u001b[K     |████████████████████████████████| 21.8MB 422kB/s \n",
      "\u001b[?25hRequirement already satisfied: imageio in /usr/local/lib/python3.6/dist-packages (from imgaug==0.3.0) (2.4.1)\n",
      "Requirement already satisfied: Shapely in /usr/local/lib/python3.6/dist-packages (from imgaug==0.3.0) (1.6.4.post2)\n",
      "Requirement already satisfied: olefile in /usr/local/lib/python3.6/dist-packages (from Pillow->imgaug==0.3.0) (0.46)\n",
      "Requirement already satisfied: pyparsing!=2.0.4,!=2.1.2,!=2.1.6,>=2.0.1 in /usr/local/lib/python3.6/dist-packages (from matplotlib->imgaug==0.3.0) (2.4.5)\n",
      "Requirement already satisfied: python-dateutil>=2.1 in /usr/local/lib/python3.6/dist-packages (from matplotlib->imgaug==0.3.0) (2.6.1)\n",
      "Requirement already satisfied: cycler>=0.10 in /usr/local/lib/python3.6/dist-packages (from matplotlib->imgaug==0.3.0) (0.10.0)\n",
      "Requirement already satisfied: kiwisolver>=1.0.1 in /usr/local/lib/python3.6/dist-packages (from matplotlib->imgaug==0.3.0) (1.1.0)\n",
      "Requirement already satisfied: networkx>=2.0 in /usr/local/lib/python3.6/dist-packages (from scikit-image>=0.14.2->imgaug==0.3.0) (2.4)\n",
      "Requirement already satisfied: PyWavelets>=0.4.0 in /usr/local/lib/python3.6/dist-packages (from scikit-image>=0.14.2->imgaug==0.3.0) (1.1.1)\n",
      "Requirement already satisfied: setuptools in /usr/local/lib/python3.6/dist-packages (from kiwisolver>=1.0.1->matplotlib->imgaug==0.3.0) (41.6.0)\n",
      "Requirement already satisfied: decorator>=4.3.0 in /usr/local/lib/python3.6/dist-packages (from networkx>=2.0->scikit-image>=0.14.2->imgaug==0.3.0) (4.4.1)\n",
      "Building wheels for collected packages: imgaug\n",
      "  Building wheel for imgaug (setup.py) ... \u001b[?25l\u001b[?25hdone\n",
      "  Created wheel for imgaug: filename=imgaug-0.3.0-cp36-none-any.whl size=891612 sha256=e8c5419b36adde7d1569aa5de8af6331c915a6ed87e0f8aa4d38a337927cd981\n",
      "  Stored in directory: /tmp/pip-ephem-wheel-cache-xtwk6erh/wheels/9c/f6/aa/41dcf2f29cc1de1da4ad840ef5393514bead64ac9e644260ff\n",
      "Successfully built imgaug\n",
      "\u001b[31mERROR: albumentations 0.1.12 has requirement imgaug<0.2.7,>=0.2.5, but you'll have imgaug 0.3.0 which is incompatible.\u001b[0m\n",
      "Installing collected packages: opencv-python-headless, imgaug\n",
      "  Found existing installation: imgaug 0.2.9\n",
      "    Uninstalling imgaug-0.2.9:\n",
      "      Successfully uninstalled imgaug-0.2.9\n",
      "Successfully installed imgaug-0.3.0 opencv-python-headless-4.1.2.30\n"
     ]
    }
   ],
   "source": [
    "\"\"\"Imgaug will be used for data augmentation\"\"\"\n",
    "!pip install git+https://github.com/aleju/imgaug\n",
    "from imgaug import augmenters as iaa\n",
    "import imgaug as ia"
   ]
  },
  {
   "cell_type": "code",
   "execution_count": 0,
   "metadata": {
    "colab": {},
    "colab_type": "code",
    "id": "RGmltseFC4_e"
   },
   "outputs": [],
   "source": [
    "class ImgAugTransform:\n",
    "  def __init__(self):\n",
    "    self.aug =iaa.Sequential([\n",
    "    iaa.Sometimes(0.5, iaa.GaussianBlur((0, 1.0))), # apply Gaussian blur with a sigma between 0 and 3 to 25% of the images\n",
    "    # apply one of the augmentations: Dropout or CoarseDropout to 50% of images\n",
    "    iaa.Sometimes(0.5,iaa.OneOf([\n",
    "        iaa.Dropout((0.01, 0.1), per_channel=0.5), # randomly remove up to 10% of the pixels\n",
    "        iaa.CoarseDropout((0.03, 0.15), size_percent=(0.02, 0.25), per_channel=0.2),\n",
    "    ])),\n",
    "    # apply from 0 to 3 of the augmentations from the list to 50% of images\n",
    "    iaa.Sometimes(0.5,iaa.SomeOf((0, 3),[\n",
    "        iaa.Sharpen(alpha=(0, 1.0), lightness=(0.75, 0.5)), # sharpen images\n",
    "        iaa.Emboss(alpha=(0, 1.0), strength=(0, 1.0)), # emboss images\n",
    "        iaa.Fliplr(1.0) # horizontally flip\n",
    "        \n",
    "    ]))\n",
    "],\n",
    "random_order=True # apply the augmentations in random order\n",
    ")\n",
    "  def __call__(self, img):\n",
    "    img = np.array(img)\n",
    "    return self.aug.augment_image(img)\n",
    "\n"
   ]
  },
  {
   "cell_type": "code",
   "execution_count": 0,
   "metadata": {
    "colab": {},
    "colab_type": "code",
    "id": "kroSoUGEC4_g"
   },
   "outputs": [],
   "source": [
    "# Loading Bounded images now \n",
    "data_transforms = {\n",
    "    'train': torchvision.transforms.Compose([\n",
    "    #torchvision.transforms.Resize((256, 256)),\n",
    "    ImgAugTransform(),\n",
    "    lambda x: PIL.Image.fromarray(x),\n",
    "    torchvision.transforms.RandomRotation(degrees=15,expand=True),\n",
    "    torchvision.transforms.Resize((256, 256)),\n",
    "    torchvision.transforms.ToTensor(),\n",
    "    torchvision.transforms.Normalize(mean=[0.485, 0.456, 0.406],std=[0.229, 0.224, 0.225])\n",
    "]),\n",
    "    'val': torchvision.transforms.Compose([\n",
    "    torchvision.transforms.Resize((256, 256)),\n",
    "    #transforms.CenterCrop(224),\n",
    "    torchvision.transforms.ToTensor(),\n",
    "    torchvision.transforms.Normalize(mean=[0.485, 0.456, 0.406],\n",
    "                                 std=[0.229, 0.224, 0.225])\n",
    "]),\n",
    "}\n",
    "data='bird'\n",
    "data_dir = {'train':data + '/Train','val':data + '/Validation'}\n",
    "image_datasets = {x: datasets.ImageFolder(data_dir[x],\n",
    "                                          data_transforms[x])\n",
    "                  for x in ['train', 'val']}\n",
    "shuffle={'train':True ,'val':False}\n",
    "dataloaders = {x: torch.utils.data.DataLoader(image_datasets[x], batch_size=32,\n",
    "                                             shuffle=shuffle[x], num_workers=0)\n",
    "              for x in ['train', 'val']}\n",
    "dataset_sizes = {x: len(image_datasets[x]) for x in ['train', 'val']}\n",
    "class_names = image_datasets['train'].classes"
   ]
  },
  {
   "cell_type": "markdown",
   "metadata": {
    "colab_type": "text",
    "id": "xbTtu6U8Jioc"
   },
   "source": [
    "###Model Training"
   ]
  },
  {
   "cell_type": "code",
   "execution_count": 45,
   "metadata": {
    "colab": {
     "base_uri": "https://localhost:8080/",
     "height": 675
    },
    "colab_type": "code",
    "id": "fihsbM6YC4_k",
    "outputId": "1ff61ece-50a5-4df1-9c57-cf1aac34f94c"
   },
   "outputs": [
    {
     "name": "stdout",
     "output_type": "stream",
     "text": [
      "Epoch 0/6\n",
      "----------\n",
      "train Loss: 3.1031 Acc: 4.5359\n",
      "val Loss: 2.8203 Acc: 22.3629\n",
      "\n",
      "Epoch 1/6\n",
      "----------\n",
      "train Loss: 2.7320 Acc: 15.8228\n",
      "val Loss: 2.3043 Acc: 27.4262\n",
      "\n",
      "Epoch 2/6\n",
      "----------\n",
      "train Loss: 2.3160 Acc: 25.3165\n",
      "val Loss: 1.7814 Acc: 43.0380\n",
      "\n",
      "Epoch 3/6\n",
      "----------\n",
      "train Loss: 2.0245 Acc: 33.5443\n",
      "val Loss: 1.3982 Acc: 61.6034\n",
      "\n",
      "Epoch 4/6\n",
      "----------\n",
      "train Loss: 1.8224 Acc: 39.8734\n",
      "val Loss: 1.4099 Acc: 52.7426\n",
      "\n",
      "Epoch 5/6\n",
      "----------\n",
      "train Loss: 1.7565 Acc: 44.1983\n",
      "val Loss: 1.2089 Acc: 60.3376\n",
      "\n",
      "Epoch 6/6\n",
      "----------\n",
      "train Loss: 1.6926 Acc: 45.9916\n",
      "val Loss: 1.2444 Acc: 56.1181\n",
      "\n",
      "Training complete in 2m 54s\n",
      "Best val Acc: 61.603376\n"
     ]
    }
   ],
   "source": [
    "model_conv,Losses = train_model(model_conv, criterion, optimizer_conv,\n",
    "                         exp_lr_scheduler,dataloaders, num_epochs=7)"
   ]
  },
  {
   "cell_type": "markdown",
   "metadata": {
    "colab_type": "text",
    "id": "OUAL30BiIa-7"
   },
   "source": [
    "The fully connected layers we added to the Model are trained for a few Epochs and then we unfreeze the weights of the whole network and let it train"
   ]
  },
  {
   "cell_type": "code",
   "execution_count": 47,
   "metadata": {
    "colab": {
     "base_uri": "https://localhost:8080/",
     "height": 1000
    },
    "colab_type": "code",
    "id": "gFCkznJ7C4_l",
    "outputId": "fabe22cb-952a-4736-f61e-5af2bd4a8839"
   },
   "outputs": [
    {
     "name": "stdout",
     "output_type": "stream",
     "text": [
      "Epoch 0/18\n",
      "----------\n",
      "train Loss: 1.3674 Acc: 55.2743\n",
      "val Loss: 0.7097 Acc: 76.7932\n",
      "\n",
      "Epoch 1/18\n",
      "----------\n",
      "train Loss: 0.9533 Acc: 68.5654\n",
      "val Loss: 0.6029 Acc: 83.9662\n",
      "\n",
      "Epoch 2/18\n",
      "----------\n",
      "train Loss: 0.6984 Acc: 77.6371\n",
      "val Loss: 0.3944 Acc: 87.3418\n",
      "\n",
      "Epoch 3/18\n",
      "----------\n",
      "train Loss: 0.6462 Acc: 77.6371\n",
      "val Loss: 0.4470 Acc: 84.3882\n",
      "\n",
      "Epoch 4/18\n",
      "----------\n",
      "train Loss: 0.6097 Acc: 79.3249\n",
      "val Loss: 0.4020 Acc: 86.9198\n",
      "\n",
      "Epoch 5/18\n",
      "----------\n",
      "train Loss: 0.4656 Acc: 84.0717\n",
      "val Loss: 0.4360 Acc: 85.2321\n",
      "\n",
      "Epoch 6/18\n",
      "----------\n",
      "train Loss: 0.4210 Acc: 86.2869\n",
      "val Loss: 0.4623 Acc: 84.8101\n",
      "\n",
      "Epoch 7/18\n",
      "----------\n",
      "train Loss: 0.3496 Acc: 88.2911\n",
      "val Loss: 0.4219 Acc: 86.9198\n",
      "\n",
      "Epoch 8/18\n",
      "----------\n",
      "train Loss: 0.3132 Acc: 89.9789\n",
      "val Loss: 0.3306 Acc: 87.7637\n",
      "\n",
      "Epoch 9/18\n",
      "----------\n",
      "train Loss: 0.2671 Acc: 92.2996\n",
      "val Loss: 0.3241 Acc: 89.8734\n",
      "\n",
      "Epoch 10/18\n",
      "----------\n",
      "train Loss: 0.2371 Acc: 92.0886\n",
      "val Loss: 0.3607 Acc: 88.6076\n",
      "\n",
      "Epoch 11/18\n",
      "----------\n",
      "train Loss: 0.2334 Acc: 93.4599\n",
      "val Loss: 0.3514 Acc: 89.0295\n",
      "\n",
      "Epoch 12/18\n",
      "----------\n",
      "train Loss: 0.1977 Acc: 94.4093\n",
      "val Loss: 0.3208 Acc: 89.0295\n",
      "\n",
      "Epoch 13/18\n",
      "----------\n",
      "train Loss: 0.1976 Acc: 92.8270\n",
      "val Loss: 0.3285 Acc: 89.8734\n",
      "\n",
      "Epoch 14/18\n",
      "----------\n",
      "train Loss: 0.1930 Acc: 94.9367\n",
      "val Loss: 0.3078 Acc: 89.4515\n",
      "\n",
      "Epoch 15/18\n",
      "----------\n",
      "train Loss: 0.2164 Acc: 94.0928\n",
      "val Loss: 0.3107 Acc: 89.4515\n",
      "\n",
      "Epoch 16/18\n",
      "----------\n",
      "train Loss: 0.2108 Acc: 93.3544\n",
      "val Loss: 0.3217 Acc: 89.8734\n",
      "\n",
      "Epoch 17/18\n",
      "----------\n",
      "train Loss: 0.2033 Acc: 93.1435\n",
      "val Loss: 0.3209 Acc: 89.8734\n",
      "\n",
      "Epoch 18/18\n",
      "----------\n",
      "train Loss: 0.1977 Acc: 93.7764\n",
      "val Loss: 0.3110 Acc: 89.4515\n",
      "\n",
      "Training complete in 16m 39s\n",
      "Best val Acc: 89.873418\n"
     ]
    }
   ],
   "source": [
    "for param in model_conv.parameters():\n",
    "    param.requires_grad = True\n",
    "optimizer_conv = optim.Adam(model_conv.parameters(), lr=0.0001, weight_decay=1e-4)\n",
    "\n",
    "# Decay LR by a factor of 0.1 every 7 epochs\n",
    "exp_lr_scheduler = lr_scheduler.StepLR(optimizer_conv, step_size=7, gamma=0.1)\n",
    "torch.cuda.empty_cache()\n",
    "model_conv,L = train_model(model_conv, criterion, optimizer_conv,\n",
    "                         exp_lr_scheduler,dataloaders, num_epochs=19)\n",
    "Losses['train']+=L['train']\n",
    "Losses['val']+=L['val']"
   ]
  },
  {
   "cell_type": "code",
   "execution_count": 51,
   "metadata": {
    "colab": {
     "base_uri": "https://localhost:8080/",
     "height": 297
    },
    "colab_type": "code",
    "id": "rWtSvcejMh08",
    "outputId": "baa4cea2-7e22-4407-90f0-86dccd72dcd2"
   },
   "outputs": [
    {
     "data": {
      "text/plain": [
       "<matplotlib.legend.Legend at 0x7f820a4b76a0>"
      ]
     },
     "execution_count": 51,
     "metadata": {
      "tags": []
     },
     "output_type": "execute_result"
    },
    {
     "data": {
      "image/png": "[encoded data removed]",
      "text/plain": [
       "<Figure size 432x288 with 1 Axes>"
      ]
     },
     "metadata": {
      "tags": []
     },
     "output_type": "display_data"
    }
   ],
   "source": [
    "plt.plot(Losses['train'], label='train')\n",
    "plt.plot(Losses['val'],label='val')\n",
    "plt.xlabel('epoch')\n",
    "plt.ylabel('loss')\n",
    "plt.legend()"
   ]
  },
  {
   "cell_type": "markdown",
   "metadata": {
    "colab_type": "text",
    "id": "42oPn5iJSupg"
   },
   "source": [
    "This  gets us around 90 % accuracy on the Validation set the we created from 20% of all the available data and on The test set on kaggle we get 0.80 Test score."
   ]
  },
  {
   "cell_type": "markdown",
   "metadata": {
    "colab_type": "text",
    "id": "msk6cj6PJfBn"
   },
   "source": [
    "###Testing"
   ]
  },
  {
   "cell_type": "markdown",
   "metadata": {
    "colab_type": "text",
    "id": "Y4HijyljKPBL"
   },
   "source": [
    "We create a custom class so we can track images and their names and still use pytorch's ImageFolder class to load the images"
   ]
  },
  {
   "cell_type": "code",
   "execution_count": 0,
   "metadata": {
    "colab": {
     "base_uri": "https://localhost:8080/",
     "height": 35
    },
    "colab_type": "code",
    "id": "1jh7GuL4C4_r",
    "outputId": "949b6596-d11d-4c59-b54e-29ca78381773"
   },
   "outputs": [
    {
     "name": "stdout",
     "output_type": "stream",
     "text": [
      "no birds\n"
     ]
    }
   ],
   "source": [
    "class ImageFolderWithPaths(datasets.ImageFolder):\n",
    "    \"\"\"Custom dataset that includes image file paths. Extends\n",
    "    torchvision.datasets.ImageFolder\n",
    "    \"\"\"\n",
    "\n",
    "    # override the __getitem__ method. this is the method that dataloader calls\n",
    "    def __getitem__(self, index):\n",
    "        # this is what ImageFolder normally returns \n",
    "        original_tuple = super(ImageFolderWithPaths, self).__getitem__(index)\n",
    "        # the image file path\n",
    "        path = self.imgs[index][0]\n",
    "        # make a new tuple that includes original and the path\n",
    "        tuple_with_path = (original_tuple + (path,))\n",
    "        return tuple_with_path\n",
    "\n",
    "\"\"\"Model for Bounding Box extraction : Faster RCNN\"\"\"\n",
    "model = torchvision.models.detection.fasterrcnn_resnet50_fpn(pretrained=True)\n",
    "model.eval()\n",
    "mode=model.to(device)\n",
    "test_transforms=transforms.Compose([\n",
    "    transforms.ToTensor(),\n",
    "    BoundingBoxes(model,device),\n",
    "    transforms.ToPILImage(),\n",
    "    transforms.Resize((256, 256)),\n",
    "    transforms.ToTensor(),\n",
    "    transforms.Normalize(mean=[0.485, 0.456, 0.406],\n",
    "                                 std=[0.229, 0.224, 0.225])\n",
    "])\n",
    "test_loader = torch.utils.data.DataLoader(ImageFolderWithPaths('bird_dataset' + '/test_images',\n",
    "                         transform=test_transforms), shuffle=False, num_workers=0) # our custom dataset\n",
    "\n",
    "\n",
    "# iterate over data\n",
    "L=[['Id','Category']]\n",
    "with torch.no_grad():\n",
    "    for inputs, _, paths in test_loader:\n",
    "        # use the above variables freely\n",
    "        inputs = inputs.to(device)\n",
    "        output = model_conv(inputs)\n",
    "        _, pred = torch.max(output, 1)\n",
    "        L+=[[paths[0].split('/')[3][:-4],pred.item()]]"
   ]
  },
  {
   "cell_type": "code",
   "execution_count": 0,
   "metadata": {
    "colab": {},
    "colab_type": "code",
    "id": "wl5hNH_LC4_t"
   },
   "outputs": [],
   "source": [
    "import pandas as pd\n",
    "pd.DataFrame(L).to_csv('recvis_kag1.csv')"
   ]
  }
 ],
 "metadata": {
  "accelerator": "GPU",
  "colab": {
   "collapsed_sections": [],
   "machine_shape": "hm",
   "name": "Transfer_learning_recvis (3).ipynb",
   "provenance": []
  },
  "kernelspec": {
   "display_name": "Python 3",
   "language": "python",
   "name": "python3"
  },
  "language_info": {
   "codemirror_mode": {
    "name": "ipython",
    "version": 3
   },
   "file_extension": ".py",
   "mimetype": "text/x-python",
   "name": "python",
   "nbconvert_exporter": "python",
   "pygments_lexer": "ipython3",
   "version": "3.7.4"
  }
 },
 "nbformat": 4,
 "nbformat_minor": 1
}
